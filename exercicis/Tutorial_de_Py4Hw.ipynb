{
  "nbformat": 4,
  "nbformat_minor": 0,
  "metadata": {
    "colab": {
      "name": "Tutorial de Py4Hw",
      "provenance": [],
      "collapsed_sections": [],
      "authorship_tag": "ABX9TyMDUi6hcibCCzsPtclkr6Ef",
      "include_colab_link": true
    },
    "kernelspec": {
      "name": "python3",
      "display_name": "Python 3"
    },
    "language_info": {
      "name": "python"
    }
  },
  "cells": [
    {
      "cell_type": "markdown",
      "metadata": {
        "id": "view-in-github",
        "colab_type": "text"
      },
      "source": [
        "<a href=\"https://colab.research.google.com/github/ThePituLegend/RISCV-MISE/blob/main/Tutorial_de_Py4Hw.ipynb\" target=\"_parent\"><img src=\"https://colab.research.google.com/assets/colab-badge.svg\" alt=\"Open In Colab\"/></a>"
      ]
    },
    {
      "cell_type": "markdown",
      "metadata": {
        "id": "hS5QE_z9cZ9K"
      },
      "source": [
        "# Tutorial de _Py4Hw_"
      ]
    },
    {
      "cell_type": "markdown",
      "metadata": {
        "id": "v4vO9Qddcju6"
      },
      "source": [
        "_Py4Hw_ es una librería de _Python_ que nos permite describir y simular circuitos sin la necesidad de construirlos (es decir, es una suerte de Lenguaje de Descripción de Hardware, o _HDL_ por sus siglas en inglés).\n",
        "\n",
        "En este _Notebook_, aprenderemos cómo se usa esta librería, de cara a poder resolver ejercicios y hacer nuestros inventos.\n",
        "Seguidlo en orden, de arriba abajo, entendiendo y ejecutando cada parte."
      ]
    },
    {
      "cell_type": "markdown",
      "metadata": {
        "id": "f--fyPQmdyh9"
      },
      "source": [
        "## Cargar _Py4Hw_"
      ]
    },
    {
      "cell_type": "markdown",
      "metadata": {
        "id": "Dw50FBwTeFAl"
      },
      "source": [
        "Para poder usar Py4Hw debemos realizar dos acciones:\n",
        "\n",
        "1.   Instalar el módulo (empleando _pip_)\n",
        "2.   Importar la librería"
      ]
    },
    {
      "cell_type": "code",
      "metadata": {
        "colab": {
          "base_uri": "https://localhost:8080/"
        },
        "id": "BhAOvekKvJIj",
        "outputId": "eaa2a0f9-a208-467a-b4bc-9c0f78463139"
      },
      "source": [
        "# TEST BUILD\n",
        "\n",
        "!pip install nbwavedrom\n",
        "!git clone https://github.com/ThePituLegend/py4hw\n",
        "%cd /content/py4hw\n",
        "from py4hw import *"
      ],
      "execution_count": 33,
      "outputs": [
        {
          "output_type": "stream",
          "text": [
            "Requirement already satisfied: nbwavedrom in /usr/local/lib/python3.7/dist-packages (0.2.0)\n",
            "fatal: destination path 'py4hw' already exists and is not an empty directory.\n",
            "/content/py4hw\n"
          ],
          "name": "stdout"
        }
      ]
    },
    {
      "cell_type": "code",
      "metadata": {
        "colab": {
          "base_uri": "https://localhost:8080/",
          "height": 35
        },
        "id": "SvW_YmZKdojN",
        "outputId": "9f6f3d42-f2d6-4598-b7a6-e178452660f5"
      },
      "source": [
        "\"\"\"\n",
        "!pip install py4hw # Instalamos el módulo\n",
        "from py4hw import * # Importamos todo el contenido del módulo al Notebook\n",
        "\"\"\""
      ],
      "execution_count": 34,
      "outputs": [
        {
          "output_type": "execute_result",
          "data": {
            "application/vnd.google.colaboratory.intrinsic+json": {
              "type": "string"
            },
            "text/plain": [
              "'\\n!pip install py4hw # Instalamos el módulo\\nfrom py4hw import * # Importamos todo el contenido del módulo al Notebook\\n'"
            ]
          },
          "metadata": {
            "tags": []
          },
          "execution_count": 34
        }
      ]
    },
    {
      "cell_type": "markdown",
      "metadata": {
        "id": "F5HgME1NmQVF"
      },
      "source": [
        "## Bloque base: Jerarquía"
      ]
    },
    {
      "cell_type": "markdown",
      "metadata": {
        "id": "4EhT-gy5mWP-"
      },
      "source": [
        "Py4Hw funciona de forma jerárquica. Esto significa que podemos crear un nuevo bloque, que contenga bloques, que a su vez contenga más bloques, y así sucesivamente.\n",
        "\n",
        "Toda esta estructura debe tener un punto de entrada (lo que se conoce como _Top Level_). Este elemento se define mediante la clase _HWSystem_. Cualquier otro componente que añadamos al circuito, va a depender de éste."
      ]
    },
    {
      "cell_type": "code",
      "metadata": {
        "id": "ezRPKycqnS1t"
      },
      "source": [
        "sys = HWSystem()"
      ],
      "execution_count": 35,
      "outputs": []
    },
    {
      "cell_type": "markdown",
      "metadata": {
        "id": "fN17ZiJQlzF2"
      },
      "source": [
        "## Cables"
      ]
    },
    {
      "cell_type": "markdown",
      "metadata": {
        "id": "kAyjpOy9l3ob"
      },
      "source": [
        "Para interconectar los bloques de un circuito, necesitamos cables.\n",
        "Estos se crean con la clase _Wire_.\n",
        "\n",
        "Los cables en Py4Hw se definen por 3 características:\n",
        "\n",
        "1.   Su _parent_\n",
        "2.   Un nombre\n",
        "3.   Un ancho en bits\n",
        "\n",
        "**IMPORTANTE**: Estamos trabajando con clases (sus constructores) y funciones, por tanto el orden es relevante. \n",
        "Si no nos acordamos, o bien _Notebook_ no nos ayuda a recordar dicho orden, en Python se pueden dar los parámetros por nombre\n",
        "\n",
        "```\n",
        "x = Clase(parametro2=a, parametro1=b)\n",
        "```"
      ]
    },
    {
      "cell_type": "code",
      "metadata": {
        "id": "RJT3I6CEoVIo"
      },
      "source": [
        "cable1 = Wire(sys, \"Cable de Ejemplo 1\", 3) # Depende de sys (el HWSystem creado anteriormente) y es de 3 bits\n",
        "cable2 = Wire(sys, \"Cable de Ejemplo 2\")    # Si no especificamos el ancho, es de 1 bit\n",
        "cable3 = sys.wire(\"Cable de ejemplo 3\", 5)  # De esta forma, el parent está implícito"
      ],
      "execution_count": 36,
      "outputs": []
    },
    {
      "cell_type": "markdown",
      "metadata": {
        "id": "eIDGOqSpgq3-"
      },
      "source": [
        "## Bloques elementales"
      ]
    },
    {
      "cell_type": "markdown",
      "metadata": {
        "id": "4IJP9-M8g5Nu"
      },
      "source": [
        "Py4Hw nos proporciona un conjunto de bloques funcionales y recursos típicos para montar nuestros circuitos. Cada uno de estos bloques es una clase que implementa la funcionalidad, y que podemos instanciar a voluntad.\n",
        "\n",
        "A continuación tenéis una lista con los más comunes (aunque existen unos pocos más):\n",
        "\n",
        "*   **Puertas lógicas**\n",
        ">*   Or\n",
        ">*   And\n",
        ">*   Nand\n",
        ">*   Not\n",
        ">*   Xor\n",
        "\n",
        "*   **Recursos de cálculo**\n",
        ">*   Constant (Valor constante)\n",
        ">*   Sequence (Conjunto de constantes)\n",
        ">*   Add (Sumador)\n",
        ">*   Sub (Restador)\n",
        ">*   Mul (Multiplicador)\n",
        "\n",
        "*   **Recursos de comparación**\n",
        ">*   Equal (Comparación de igualdad)\n",
        ">*   Sign (Comprobación de signo)\n",
        ">*   Comparator (Circuito comparador completo: mayor que, igual o menor que)\n",
        "\n",
        "*   **Bloques de control** \n",
        ">*   Mux2 (Multiplexor de 2 entradas)\n",
        ">*   Mux (Multiplexor de _n_ entradas)\n",
        ">*   Decoder (Decodificador de _n_ salidas)\n",
        "\n",
        "*   **Elementos de memoria** \n",
        ">*   Reg (Regístro síncrono de _n_ bits)\n",
        ">*   **NOTA**: En _Py4Hw_ el reloj es implícito, por lo tanto este no se indica.\n",
        "\n",
        "Cada uno de estos bloques requiere:\n",
        "\n",
        "*   A qué bloque pertenece en la jerarquía (es decir, su _parent_)\n",
        "*   Un nombre\n",
        "*   Las entradas y salidas del bloque que se necesiten. \n",
        "\n",
        "Por lo general, y salvo que se indique lo contrario, todos los bloques admiten entradas con cantidades de bit arbitrarias.\n",
        "\n",
        "A lo largo de este tutorial y de diferentes ejemplos, veremos estos bloques y algunos más."
      ]
    },
    {
      "cell_type": "markdown",
      "metadata": {
        "id": "Jgk098FGpiys"
      },
      "source": [
        "A continuación, veamos un ejemplo de cómo usar uno de estos bloques.\n",
        "\n",
        "Vamos a construir un ejemplo muy sencillo, en el que interconectamos un par de constantes a un bloque sumador."
      ]
    },
    {
      "cell_type": "code",
      "metadata": {
        "colab": {
          "base_uri": "https://localhost:8080/"
        },
        "id": "htb0Q6gxtScb",
        "outputId": "8e6d723c-6509-4515-ae61-932fbaa89b98"
      },
      "source": [
        "# Instanciamos dos cables de entrada, de 3 bits.\n",
        "n1 = sys.wire(\"Número 1\", 3)\n",
        "n2 = sys.wire(\"Número 2\", 3)\n",
        "\n",
        "# Instanciamos dos constantes para sumar. Escogemos 5 y 4.\n",
        "# Podremos ver que no es necesario guardar el bloque en ninguna variable, \n",
        "#   puesto que los cables ya relacionarán los bloques entre sí.\n",
        "# Constant(parent, name, value, wire)\n",
        "Constant(sys, \"Número 1\", 5, n1)\n",
        "Constant(sys, \"Número 2\", 4, n2)\n",
        "\n",
        "# Instanciamos un tercer cable, de salida, de 4 bits.\n",
        "# Como se espera que el resultado sea 9, con 3 bits no nos bastaría.\n",
        "res = sys.wire(\"Resultado\", 4)\n",
        "\n",
        "# Instanciamos el módulo sumador, y le conectamos los cables pertinentes.\n",
        "# Add(parent, name, a, b, r) => r = a + b\n",
        "Add(sys, \"Sumador\", n1, n2, res)"
      ],
      "execution_count": 37,
      "outputs": [
        {
          "output_type": "execute_result",
          "data": {
            "text/plain": [
              "<py4hw.logic.Add at 0x7f078d8313d0>"
            ]
          },
          "metadata": {
            "tags": []
          },
          "execution_count": 37
        }
      ]
    },
    {
      "cell_type": "markdown",
      "metadata": {
        "id": "FG-w6EkywVdW"
      },
      "source": [
        "El problema es que, si bien el circuito es estructuralmente correcto (de lo contrario obtendríamos errores de código), no sabemos si nos da el resultado esperado.\n",
        "\n",
        "Para eso necesitamos realizar una simulación."
      ]
    },
    {
      "cell_type": "markdown",
      "metadata": {
        "id": "jUd8raKJwseM"
      },
      "source": [
        "## Simulación: Scope"
      ]
    },
    {
      "cell_type": "markdown",
      "metadata": {
        "id": "mZ4wAzH_wwt4"
      },
      "source": [
        "_Py4Hw_ no solo nos permite describir circuitos: también nos permite simularlos.\n",
        "\n",
        "Para ello, primero debemos obtener un simulador del circuito que estemos creando."
      ]
    },
    {
      "cell_type": "code",
      "metadata": {
        "id": "dW8crmgEw4mw"
      },
      "source": [
        "sim = sys.getSimulator() # Obtenemos el simulador asociado al circuito actual."
      ],
      "execution_count": 38,
      "outputs": []
    },
    {
      "cell_type": "markdown",
      "metadata": {
        "id": "Bl1bI_sFxn-W"
      },
      "source": [
        "Por otro lado, cuando simulemos un circuito no siempre querremos ver todo lo que está pasando, sino que nos centraremos en determinadas señales.\n",
        "\n",
        "Para ello, debemos indicarle a _Py4Hw_ qué cables queremos monitorizar. Disponemos de dos bloques que realizan esta labor. Por ahora, vamos a fijarnos en el primero: el _Scope_.\n",
        "\n",
        "El _Scope_ nos muestra el valor del cable en formato texto cada ciclo de reloj.\n",
        "Esto vendría a ser parecido a cuando ponemos un _printf_ o un _cout_ en un código \"normal\".\n",
        "\n",
        "Este bloque admite una lista de cables, así no necesitamos un bloque por cada señal que queramos monitorizar."
      ]
    },
    {
      "cell_type": "code",
      "metadata": {
        "id": "wB5h3X2wya0r",
        "colab": {
          "base_uri": "https://localhost:8080/"
        },
        "outputId": "5e5fe440-cd03-4f06-f896-2c3e0790f8ef"
      },
      "source": [
        "cableMon1 = sys.wire(\"Cable a monitorizar1\") # Cable de ejemplo\n",
        "cableMon2 = sys.wire(\"Cable a monitorizar2\") # Cable de ejemplo\n",
        "\n",
        "Scope(sys, \"Cable1\", cableMon1)              # Scope que monitoriza cableMon\n",
        "Scope(sys, \"Combo de cables\", \n",
        "      [cableMon1, cableMon2])                # Scope con múltiples señales                   "
      ],
      "execution_count": 39,
      "outputs": [
        {
          "output_type": "execute_result",
          "data": {
            "text/plain": [
              "<py4hw.logic.Scope at 0x7f078d866690>"
            ]
          },
          "metadata": {
            "tags": []
          },
          "execution_count": 39
        }
      ]
    },
    {
      "cell_type": "markdown",
      "metadata": {
        "id": "gM8BxpZLzhmP"
      },
      "source": [
        "Una vez hemos seleccionado las señales a monitorizar, podemos empezar a simular el circuito indicando al simulador que queremos que avance en el tiempo (en ciclos de reloj):\n",
        "\n",
        "```\n",
        "sim.clk(x) # x = cantidad de cíclos a avanzar, normalmente 1\n",
        "```\n",
        "\n",
        "Los _Scope_ funcionarán automáticamente, por cada ciclo que avancemos, todas las señales que estemos monitorizando irán mostrando sus valores en texto.\n"
      ]
    },
    {
      "cell_type": "markdown",
      "metadata": {
        "id": "X_30ZgQaw4r5"
      },
      "source": [
        "Con todos los componentes claros, podemos retomar el ejemplo anterior y simularlo.\n",
        "\n",
        "El código al completo quedaría así:"
      ]
    },
    {
      "cell_type": "code",
      "metadata": {
        "colab": {
          "base_uri": "https://localhost:8080/"
        },
        "id": "A_Phar3BxI0m",
        "outputId": "e8b31385-adf9-4cc4-c094-12fda57b4227"
      },
      "source": [
        "# Creamos el HWSystem que servirá de punto inicial del circuito.\n",
        "sys = HWSystem()\n",
        "\n",
        "# Instanciamos dos cables de entrada, de 3 bits.\n",
        "n1 = sys.wire(\"Número 1\", 3)\n",
        "n2 = sys.wire(\"Número 2\", 3)\n",
        "\n",
        "# Instanciamos dos constantes para sumar. Escogemos 5 y 4.\n",
        "# Podremos ver que no es necesario guardar el bloque en ninguna variable, \n",
        "#   puesto que los cables ya relacionarán los bloques entre sí.\n",
        "# Constant(parent, name, value, wire)\n",
        "Constant(sys, \"Número 1\", 5, n1)\n",
        "Constant(sys, \"Número 2\", 4, n2)\n",
        "\n",
        "# Instanciamos un tercer cable, de salida, de 4 bits.\n",
        "# Como se espera que el resultado sea 9, con 3 bits no nos bastaría.\n",
        "res = sys.wire(\"Resultado\", 4)\n",
        "\n",
        "# Instanciamos el módulo sumador, y le conectamos los cables pertinentes.\n",
        "# Add(parent, name, a, b, r) => r = a + b\n",
        "Add(sys, \"Sumador\", n1, n2, res)\n",
        "\n",
        "# Instanciamos un Scope para ver la señal res\n",
        "Scope(sys, \"Scope\", res)\n",
        "\n",
        "# Obtenemos el simulador del circuito.\n",
        "sim = sys.getSimulator()\n",
        "\n",
        "# Simulamos unos cuantos ciclos\n",
        "sim.clk(4)"
      ],
      "execution_count": 40,
      "outputs": [
        {
          "output_type": "stream",
          "text": [
            "Scope [Scope]:\n",
            "Resultado=9\n",
            "--------------\n",
            "Scope [Scope]:\n",
            "Resultado=9\n",
            "--------------\n",
            "Scope [Scope]:\n",
            "Resultado=9\n",
            "--------------\n",
            "Scope [Scope]:\n",
            "Resultado=9\n",
            "--------------\n"
          ],
          "name": "stdout"
        }
      ]
    },
    {
      "cell_type": "markdown",
      "metadata": {
        "id": "d6GTgIMujco3"
      },
      "source": [
        "Podemos ver, como cabe esperar, que el resultado no varía.\n",
        "Iremos viendo otros ejemplos donde los valores sí cambiarán a lo largo del tiempo."
      ]
    },
    {
      "cell_type": "markdown",
      "metadata": {
        "id": "J5iEwLY53ipr"
      },
      "source": [
        "## Creación de bloques"
      ]
    },
    {
      "cell_type": "markdown",
      "metadata": {
        "id": "HLvXFro23nBN"
      },
      "source": [
        "Hasta ahora hemos visto cómo podemos montar un circuito a partir de bloques ya existentes.\n",
        "\n",
        "¿Pero cómo creamos nuestros propios bloques?\n",
        "En _Py4Hw_ un bloque es una clase que implementa el funcionamiento del bloque. Así que para hacer nuestros propios bloques, solo debemos crear una nueva clase.\n",
        "\n",
        "De cara a definir el funcionamiento del bloque, podemos hacerlo de dos formas:\n",
        "\n",
        "*   **Estructuralmente:** La clase instancia otros bloques y los interconecta.\n",
        ">    Todo se implementa en el constructor.\n",
        "*   **Comportamental:** Se define el comportamiento del circuito mediante código.\n",
        ">*   *Combinacional:* Implementan el método _propagate()_.\n",
        ">*   *Secuencial:* Implementan el método _clock()_."
      ]
    },
    {
      "cell_type": "markdown",
      "metadata": {
        "id": "Oxd8WeNh6Ggo"
      },
      "source": [
        "A continuación, vamos a ver un ejemplo de bloque que implementaremos usando ambos metodos.\n",
        "\n",
        "Se trata de un circuito que nos permite, dados dos numeros, escoger entre sumarlos o multiplicarlos dada una tercera señal de control (0 = Sumar, 1 = Multiplicar).\n"
      ]
    },
    {
      "cell_type": "markdown",
      "metadata": {
        "id": "kZIphgXZ819O"
      },
      "source": [
        ">*Apunte rápido sobre las clases en Python*\n",
        "*   La herencia de clases se marca entre parentesis.\n",
        "*   Todos los métodos de una clase, incluso aquellos sin parámetros, reciben siempre el parámetro _self_. Este solo se escribe cuando se crea la clase, no cuando se instancia. Es parecido al _this_ de C/C++.\n",
        "*   Una variable de la forma self.x dentro de un método, define un atributo de la clase. Las variables sin _self_, son tratadas como \"temporales\"."
      ]
    },
    {
      "cell_type": "markdown",
      "metadata": {
        "id": "1vot-FUq7r0m"
      },
      "source": [
        "Versión Comportamental:"
      ]
    },
    {
      "cell_type": "code",
      "metadata": {
        "id": "0h20fIXV7v-m"
      },
      "source": [
        "class SumMulComp(Logic): # Todos los bloques derivan de la clase Logic\n",
        "  \"\"\"\n",
        "  Sumador / Multiplicador Comportamental\n",
        "  Si sel = 0 => out = a + b\n",
        "  Si sel = 1 => out = a * b\n",
        "  \"\"\"\n",
        "\n",
        "  # Todos los bloques tienen que implementar, como mínimo el constructor.\n",
        "  # El constructor necesita, como mínimo, un parent (de tipo Logic) y un name (de tipo str)\n",
        "  def __init__(self, parent: Logic, name: str, a: Wire, b: Wire, sel: Wire, out: Wire):\n",
        "    super().__init__(parent, name) # Llamamos al constructor de la clase base\n",
        "\n",
        "    # Marcamos los cables pertinentes como entradas y les damos un nombre\n",
        "    self.a = self.addIn(\"Número 1\", a)\n",
        "    self.b = self.addIn(\"Número 2\", b)\n",
        "    self.sel = self.addIn(\"Selección\", sel)\n",
        "\n",
        "    # Marcamos el cable pertinente como salida y le damos un nombre\n",
        "    self.out = self.addOut(\"Resultado\", out)\n",
        "  \n",
        "  # Puesto que se trata de un circuito combinacional (puesto que no necesitamos elementos de memoria),\n",
        "  #  implementamos propagate()\n",
        "  def propagate(self):\n",
        "    if self.sel.get() == 0: # Con get() obtenemos el valor de la señal\n",
        "      res = self.a.get() + self.b.get()\n",
        "    else:\n",
        "      res = self.a.get() * self.b.get()\n",
        "    \n",
        "    self.out.put(res) # Con put() actualizamos el valor de la señal"
      ],
      "execution_count": 41,
      "outputs": []
    },
    {
      "cell_type": "markdown",
      "metadata": {
        "id": "KozJdDMkDt3b"
      },
      "source": [
        "Versión estructural:\n",
        "\n",
        ">![image.png](data:image/png;base64,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)"
      ]
    },
    {
      "cell_type": "code",
      "metadata": {
        "id": "JYCpQQ5OEtq-"
      },
      "source": [
        "class SumMulEstr(Logic): # Todos los bloques derivan de la clase Logic\n",
        "  \"\"\"\n",
        "  Sumador / Multiplicador Estructural\n",
        "  Si sel = 0 => out = a + b\n",
        "  Si sel = 1 => out = a * b\n",
        "  \"\"\"\n",
        "\n",
        "  # En una implementación estructural, todo se realiza en el constructor\n",
        "  # El constructor necesita, como mínimo, un parent (de tipo Logic) y un name (de tipo str)\n",
        "  def __init__(self, parent: Logic, name: str, a: Wire, b: Wire, sel: Wire, out: Wire):\n",
        "    super().__init__(parent, name) # Llamamos al constructor de la clase base\n",
        "\n",
        "    # Marcamos los cables pertinentes como entradas y les damos un nombre\n",
        "    a = self.addIn(\"Número 1\", a)\n",
        "    b = self.addIn(\"Número 2\", b)\n",
        "    sel = self.addIn(\"Selección\", sel)\n",
        "\n",
        "    # Marcamos el cable pertinente como salida y le damos un nombre\n",
        "    out = self.addOut(\"Resultado\", out)\n",
        "\n",
        "    # Instanciamos los cables intermedios que necesitemos\n",
        "    sum2mux = self.wire(\"Sum->mux(0)\", 32) # Por simplicidad, asumiremos 32 bits.\n",
        "    mul2mux = self.wire(\"Mul->mux(1)\", 32)\n",
        "    one = self.wire(\"1\") # Cable de 1 bit para el enable de los registros\n",
        "\n",
        "    # Instanciamos los bloques que componen el circuito\n",
        "\n",
        "    # Constant(parent, name, value, wire) => wire = value\n",
        "    Constant(self, \"1\", 1, one) # El cable siempre está a 1\n",
        "\n",
        "    # Add(parent, name, a, b, out) => out = a + b\n",
        "    Add(self, \"Sumador\", a, b, sum2mux)\n",
        "    \n",
        "    # Mul(parent, name, a, b, out) => out = a * b\n",
        "    Mul(self, \"Multiplicador\", a, b, mul2mux)\n",
        "\n",
        "    # Mux2(parent, name, sel, 0, 1, out). Mux 2-a-1\n",
        "    Mux2(self, \"Multiplexor\", sel, sum2mux, mul2mux, out)\n"
      ],
      "execution_count": 42,
      "outputs": []
    },
    {
      "cell_type": "markdown",
      "metadata": {
        "id": "eTEF4QAyIe-J"
      },
      "source": [
        "Ambos bloques deberían dar el mismo resultado.\n",
        "La única forma de saberlo, es montando una simulación."
      ]
    },
    {
      "cell_type": "markdown",
      "metadata": {
        "id": "ubB_z_uOjJv7"
      },
      "source": [
        "## Simulación: Waveform"
      ]
    },
    {
      "cell_type": "markdown",
      "metadata": {
        "id": "JLqG1K2bjwID"
      },
      "source": [
        "En el diseño de circuitos las señales rara vez son estáticas _(pensadlo: ¿por qué diseñaríamos un circuito que haga cálculos automáticamente si le vamos a dar siempre el mismo valor? Para eso, podríamos hacer el cálculo nosotros a mano...)_.\n",
        "\n",
        "Por ello, vamos a ver un bloque alternatívo al _Scope_ para cuando necesitamos monitorizar señales que cambian a lo largo de los cíclos: el _Waveform_.\n",
        "\n",
        "El _Waveform_ nos generará un cronograma a partir de las señales que estemos monitorizando. Esto es ideal cuando tenemos múltiples señales que varían con el tiempo, puesto que nos da una intuición visual del funcionamiento del circuito.\n",
        "\n",
        "Este bloque admite una lista de cables, así no necesitamos un bloque por cada señal que queramos monitorizar."
      ]
    },
    {
      "cell_type": "code",
      "metadata": {
        "id": "ZT4TIFLEl52L"
      },
      "source": [
        "cableMon1 = sys.wire(\"Cable a monitorizar1\") # Cable de ejemplo\n",
        "cableMon2 = sys.wire(\"Cable a monitorizar2\") # Cable de ejemplo\n",
        "\n",
        "wave1 = Waveform(sys, \"Cable1\", cableMon1)   # Waveform que monitoriza cableMon\n",
        "wave2 = Waveform(sys, \"Combo de cables\", \n",
        "                 [cableMon1, cableMon2])     # Waveform con múltiples señales "
      ],
      "execution_count": 43,
      "outputs": []
    },
    {
      "cell_type": "markdown",
      "metadata": {
        "id": "cq0-QdZgmSvM"
      },
      "source": [
        "Una vez hemos seleccionado las señales a monitorizar, podemos empezar a simular el circuito indicando al simulador que queremos que avance en el tiempo como hemos visto anteriormente.\n",
        "\n",
        "A diferencia de los _Scope_, los _Waveform_ no son totalmente automáticos. A cada ciclo que pase, el bloque registrará internamente los cambios de señal. Para mostrar el cronograma acumulado hasta el instante simulado actual, debemos pedirselo:\n",
        "\n",
        "```\n",
        "draw_waveform(wave1.get_waveform())\n",
        "```\n",
        "\n",
        "Este es el motivo de que, a diferencia de los _Scope_, los _Waveform_ se deban almacenar en una variable (puesto que necesitamos una referencia para indicar qué _Waveform_ debe ser dibujado)."
      ]
    },
    {
      "cell_type": "markdown",
      "metadata": {
        "id": "4lH3qEKDngXP"
      },
      "source": [
        "Para mostrar el poder de los cronogramas, vamos a simular el bloque que hemos creado, pero en vez de con un único par de valores, con unos cuantos que irán variando con el tiempo.\n",
        "\n",
        "Para ello, haremos uso del bloque _Sequence_, que se comporta como un _Constant_ pero con múltiples valores. Esta \"lista\" de valores es lo que se conoce como **lista de sensibilidad**, y es una herramienta muy útil en simulación (no vamos a poder convertir un _Sequence_ en un bloque _HW_ real)."
      ]
    },
    {
      "cell_type": "code",
      "metadata": {
        "colab": {
          "base_uri": "https://localhost:8080/",
          "height": 1000
        },
        "id": "FJ4OjIdPWUbt",
        "outputId": "d9a35e9b-11b5-4d97-fbbe-0d38c006829b"
      },
      "source": [
        "# Creamos el HWSystem que servirá de punto inicial del circuito.\n",
        "sys = HWSystem()\n",
        "\n",
        "# Instanciamos dos cables de entrada de 4 bits \n",
        "#   (puesto que el valor más grande será 8)\n",
        "n1 = sys.wire(\"Número 1\", 4)\n",
        "n2 = sys.wire(\"Número 2\", 4)\n",
        "\n",
        "# Instanciamos un tercer cable, de selección, de 1 bit\n",
        "sel = sys.wire(\"Selección\")\n",
        "\n",
        "# Instanciamos dos secuencias para sumar/multiplicar\n",
        "# Sequence(parent, name, values, wire)\n",
        "Sequence(sys, \"Número 1\", [1, 3, 5, 7], n1)\n",
        "Sequence(sys, \"Número 2\", [2, 4, 6, 8], n2)\n",
        "\n",
        "# Instanciamos una tercera secuencia, que llevará la señal de control.\n",
        "Sequence(sys, \"Selección\", [0, 0, 0, 0, 1, 1, 1, 1], sel)\n",
        "\n",
        "# Instanciamos un cuarto cable, de salida, de 6 bits\n",
        "#   (puesto que el valor más grande será 7 * 8 = 56)\n",
        "res1 = sys.wire(\"Resultado (Comp.)\", 6)\n",
        "res2 = sys.wire(\"Resultado (Estr.)\", 6)\n",
        "\n",
        "# Instanciamos las dos versiones del módulo.\n",
        "# SumMulX(parent, name, a, b, sel, out) => out = a + b // a * b (según sel)\n",
        "SumMulComp(sys, \"SumMul (Comp.)\", n1, n2, sel, res1)\n",
        "# Guardo este bloque en una variable para más adelante...\n",
        "sme = SumMulEstr(sys, \"SumMul (Estr.)\", n1, n2, sel, res2)\n",
        "\n",
        "# Instanciamos un Scope y un Waveform para ver las señales resx\n",
        "Scope(sys, \"Scope\", [n1, n2, sel, res1, res2])\n",
        "wf = Waveform(sys, \"Waveform\", [n1, n2, sel, res1, res2])\n",
        "\n",
        "# Obtenemos el simulador del circuito.\n",
        "sim = sys.getSimulator()\n",
        "\n",
        "# Simulamos 4 ciclos con sel = 0, para cubrir las secuencias numéricas completas.\n",
        "sim.clk(4)\n",
        "\n",
        "# Simulamos 4 ciclo con sel = 1, para cubrir las secuencias numéricas completas.\n",
        "sim.clk(4)\n",
        "\n",
        "# Dibujamos el waveform\n",
        "draw_waveform(wf.get_waveform())"
      ],
      "execution_count": 44,
      "outputs": [
        {
          "output_type": "stream",
          "text": [
            "Scope [Scope]:\n",
            "Número 1=1\n",
            "Número 2=2\n",
            "Selección=0\n",
            "Resultado (Comp.)=3\n",
            "Resultado (Estr.)=3\n",
            "--------------\n",
            "Scope [Scope]:\n",
            "Número 1=3\n",
            "Número 2=4\n",
            "Selección=0\n",
            "Resultado (Comp.)=7\n",
            "Resultado (Estr.)=7\n",
            "--------------\n",
            "Scope [Scope]:\n",
            "Número 1=5\n",
            "Número 2=6\n",
            "Selección=0\n",
            "Resultado (Comp.)=11\n",
            "Resultado (Estr.)=11\n",
            "--------------\n",
            "Scope [Scope]:\n",
            "Número 1=7\n",
            "Número 2=8\n",
            "Selección=0\n",
            "Resultado (Comp.)=15\n",
            "Resultado (Estr.)=15\n",
            "--------------\n",
            "Scope [Scope]:\n",
            "Número 1=1\n",
            "Número 2=2\n",
            "Selección=1\n",
            "Resultado (Comp.)=2\n",
            "Resultado (Estr.)=2\n",
            "--------------\n",
            "Scope [Scope]:\n",
            "Número 1=3\n",
            "Número 2=4\n",
            "Selección=1\n",
            "Resultado (Comp.)=12\n",
            "Resultado (Estr.)=12\n",
            "--------------\n",
            "Scope [Scope]:\n",
            "Número 1=5\n",
            "Número 2=6\n",
            "Selección=1\n",
            "Resultado (Comp.)=30\n",
            "Resultado (Estr.)=30\n",
            "--------------\n",
            "Scope [Scope]:\n",
            "Número 1=7\n",
            "Número 2=8\n",
            "Selección=1\n",
            "Resultado (Comp.)=56\n",
            "Resultado (Estr.)=56\n",
            "--------------\n"
          ],
          "name": "stdout"
        },
        {
          "output_type": "execute_result",
          "data": {
            "text/html": [
              "<script>var WaveSkin=WaveSkin||{};WaveSkin.default=[\"svg\",{\"id\":\"svg\",\"xmlns\":\"http://www.w3.org/2000/svg\",\"xmlns:xlink\":\"http://www.w3.org/1999/xlink\",\"height\":\"0\"},[\"style\",{\"type\":\"text/css\"},\"text{font-size:11pt;font-style:normal;font-variant:normal;font-weight:normal;font-stretch:normal;text-align:center;fill-opacity:1;font-family:Helvetica}.muted{fill:#aaa}.warning{fill:#f6b900}.error{fill:#f60000}.info{fill:#0041c4}.success{fill:#00ab00}.h1{font-size:33pt;font-weight:bold}.h2{font-size:27pt;font-weight:bold}.h3{font-size:20pt;font-weight:bold}.h4{font-size:14pt;font-weight:bold}.h5{font-size:11pt;font-weight:bold}.h6{font-size:8pt;font-weight:bold}.s1{fill:none;stroke:#000;stroke-width:1;stroke-linecap:round;stroke-linejoin:miter;stroke-miterlimit:4;stroke-opacity:1;stroke-dasharray:none}.s2{fill:none;stroke:#000;stroke-width:0.5;stroke-linecap:round;stroke-linejoin:miter;stroke-miterlimit:4;stroke-opacity:1;stroke-dasharray:none}.s3{color:#000;fill:none;stroke:#000;stroke-width:1;stroke-linecap:round;stroke-linejoin:miter;stroke-miterlimit:4;stroke-opacity:1;stroke-dasharray:1, 3;stroke-dashoffset:0;marker:none;visibility:visible;display:inline;overflow:visible;enable-background:accumulate}.s4{color:#000;fill:none;stroke:#000;stroke-width:1;stroke-linecap:round;stroke-linejoin:miter;stroke-miterlimit:4;stroke-opacity:1;stroke-dasharray:none;stroke-dashoffset:0;marker:none;visibility:visible;display:inline;overflow:visible}.s5{fill:#fff;stroke:none}.s6{color:#000;fill:#ffffb4;fill-opacity:1;fill-rule:nonzero;stroke:none;stroke-width:1px;marker:none;visibility:visible;display:inline;overflow:visible;enable-background:accumulate}.s7{color:#000;fill:#ffe0b9;fill-opacity:1;fill-rule:nonzero;stroke:none;stroke-width:1px;marker:none;visibility:visible;display:inline;overflow:visible;enable-background:accumulate}.s8{color:#000;fill:#b9e0ff;fill-opacity:1;fill-rule:nonzero;stroke:none;stroke-width:1px;marker:none;visibility:visible;display:inline;overflow:visible;enable-background:accumulate}.s9{fill:#000;fill-opacity:1;stroke:none}.s10{color:#000;fill:#fff;fill-opacity:1;fill-rule:nonzero;stroke:none;stroke-width:1px;marker:none;visibility:visible;display:inline;overflow:visible;enable-background:accumulate}.s11{fill:#0041c4;fill-opacity:1;stroke:none}.s12{fill:none;stroke:#0041c4;stroke-width:1;stroke-linecap:round;stroke-linejoin:miter;stroke-miterlimit:4;stroke-opacity:1;stroke-dasharray:none}\"],[\"defs\",[\"g\",{\"id\":\"socket\"},[\"rect\",{\"y\":\"15\",\"x\":\"6\",\"height\":\"20\",\"width\":\"20\"}]],[\"g\",{\"id\":\"pclk\"},[\"path\",{\"d\":\"M0,20 0,0 20,0\",\"class\":\"s1\"}]],[\"g\",{\"id\":\"nclk\"},[\"path\",{\"d\":\"m0,0 0,20 20,0\",\"class\":\"s1\"}]],[\"g\",{\"id\":\"000\"},[\"path\",{\"d\":\"m0,20 20,0\",\"class\":\"s1\"}]],[\"g\",{\"id\":\"0m0\"},[\"path\",{\"d\":\"m0,20 3,0 3,-10 3,10 11,0\",\"class\":\"s1\"}]],[\"g\",{\"id\":\"0m1\"},[\"path\",{\"d\":\"M0,20 3,20 9,0 20,0\",\"class\":\"s1\"}]],[\"g\",{\"id\":\"0mx\"},[\"path\",{\"d\":\"M3,20 9,0 20,0\",\"class\":\"s1\"}],[\"path\",{\"d\":\"m20,15 -5,5\",\"class\":\"s2\"}],[\"path\",{\"d\":\"M20,10 10,20\",\"class\":\"s2\"}],[\"path\",{\"d\":\"M20,5 5,20\",\"class\":\"s2\"}],[\"path\",{\"d\":\"M20,0 4,16\",\"class\":\"s2\"}],[\"path\",{\"d\":\"M15,0 6,9\",\"class\":\"s2\"}],[\"path\",{\"d\":\"M10,0 9,1\",\"class\":\"s2\"}],[\"path\",{\"d\":\"m0,20 20,0\",\"class\":\"s1\"}]],[\"g\",{\"id\":\"0md\"},[\"path\",{\"d\":\"m8,20 10,0\",\"class\":\"s3\"}],[\"path\",{\"d\":\"m0,20 5,0\",\"class\":\"s1\"}]],[\"g\",{\"id\":\"0mu\"},[\"path\",{\"d\":\"m0,20 3,0 C 7,10 10.107603,0 20,0\",\"class\":\"s1\"}]],[\"g\",{\"id\":\"0mz\"},[\"path\",{\"d\":\"m0,20 3,0 C 10,10 15,10 20,10\",\"class\":\"s1\"}]],[\"g\",{\"id\":\"111\"},[\"path\",{\"d\":\"M0,0 20,0\",\"class\":\"s1\"}]],[\"g\",{\"id\":\"1m0\"},[\"path\",{\"d\":\"m0,0 3,0 6,20 11,0\",\"class\":\"s1\"}]],[\"g\",{\"id\":\"1m1\"},[\"path\",{\"d\":\"M0,0 3,0 6,10 9,0 20,0\",\"class\":\"s1\"}]],[\"g\",{\"id\":\"1mx\"},[\"path\",{\"d\":\"m3,0 6,20 11,0\",\"class\":\"s1\"}],[\"path\",{\"d\":\"M0,0 20,0\",\"class\":\"s1\"}],[\"path\",{\"d\":\"m20,15 -5,5\",\"class\":\"s2\"}],[\"path\",{\"d\":\"M20,10 10,20\",\"class\":\"s2\"}],[\"path\",{\"d\":\"M20,5 8,17\",\"class\":\"s2\"}],[\"path\",{\"d\":\"M20,0 7,13\",\"class\":\"s2\"}],[\"path\",{\"d\":\"M15,0 6,9\",\"class\":\"s2\"}],[\"path\",{\"d\":\"M10,0 5,5\",\"class\":\"s2\"}],[\"path\",{\"d\":\"M3.5,1.5 5,0\",\"class\":\"s2\"}]],[\"g\",{\"id\":\"1md\"},[\"path\",{\"d\":\"m0,0 3,0 c 4,10 7,20 17,20\",\"class\":\"s1\"}]],[\"g\",{\"id\":\"1mu\"},[\"path\",{\"d\":\"M0,0 5,0\",\"class\":\"s1\"}],[\"path\",{\"d\":\"M8,0 18,0\",\"class\":\"s3\"}]],[\"g\",{\"id\":\"1mz\"},[\"path\",{\"d\":\"m0,0 3,0 c 7,10 12,10 17,10\",\"class\":\"s1\"}]],[\"g\",{\"id\":\"xxx\"},[\"path\",{\"d\":\"m0,20 20,0\",\"class\":\"s1\"}],[\"path\",{\"d\":\"M0,0 20,0\",\"class\":\"s1\"}],[\"path\",{\"d\":\"M0,5 5,0\",\"class\":\"s2\"}],[\"path\",{\"d\":\"M0,10 10,0\",\"class\":\"s2\"}],[\"path\",{\"d\":\"M0,15 15,0\",\"class\":\"s2\"}],[\"path\",{\"d\":\"M0,20 20,0\",\"class\":\"s2\"}],[\"path\",{\"d\":\"M5,20 20,5\",\"class\":\"s2\"}],[\"path\",{\"d\":\"M10,20 20,10\",\"class\":\"s2\"}],[\"path\",{\"d\":\"m15,20 5,-5\",\"class\":\"s2\"}]],[\"g\",{\"id\":\"xm0\"},[\"path\",{\"d\":\"M0,0 4,0 9,20\",\"class\":\"s1\"}],[\"path\",{\"d\":\"m0,20 20,0\",\"class\":\"s1\"}],[\"path\",{\"d\":\"M0,5 4,1\",\"class\":\"s2\"}],[\"path\",{\"d\":\"M0,10 5,5\",\"class\":\"s2\"}],[\"path\",{\"d\":\"M0,15 6,9\",\"class\":\"s2\"}],[\"path\",{\"d\":\"M0,20 7,13\",\"class\":\"s2\"}],[\"path\",{\"d\":\"M5,20 8,17\",\"class\":\"s2\"}]],[\"g\",{\"id\":\"xm1\"},[\"path\",{\"d\":\"M0,0 20,0\",\"class\":\"s1\"}],[\"path\",{\"d\":\"M0,20 4,20 9,0\",\"class\":\"s1\"}],[\"path\",{\"d\":\"M0,5 5,0\",\"class\":\"s2\"}],[\"path\",{\"d\":\"M0,10 9,1\",\"class\":\"s2\"}],[\"path\",{\"d\":\"M0,15 7,8\",\"class\":\"s2\"}],[\"path\",{\"d\":\"M0,20 5,15\",\"class\":\"s2\"}]],[\"g\",{\"id\":\"xmx\"},[\"path\",{\"d\":\"m0,20 20,0\",\"class\":\"s1\"}],[\"path\",{\"d\":\"M0,0 20,0\",\"class\":\"s1\"}],[\"path\",{\"d\":\"M0,5 5,0\",\"class\":\"s2\"}],[\"path\",{\"d\":\"M0,10 10,0\",\"class\":\"s2\"}],[\"path\",{\"d\":\"M0,15 15,0\",\"class\":\"s2\"}],[\"path\",{\"d\":\"M0,20 20,0\",\"class\":\"s2\"}],[\"path\",{\"d\":\"M5,20 20,5\",\"class\":\"s2\"}],[\"path\",{\"d\":\"M10,20 20,10\",\"class\":\"s2\"}],[\"path\",{\"d\":\"m15,20 5,-5\",\"class\":\"s2\"}]],[\"g\",{\"id\":\"xmd\"},[\"path\",{\"d\":\"m0,0 4,0 c 3,10 6,20 16,20\",\"class\":\"s1\"}],[\"path\",{\"d\":\"m0,20 20,0\",\"class\":\"s1\"}],[\"path\",{\"d\":\"M0,5 4,1\",\"class\":\"s2\"}],[\"path\",{\"d\":\"M0,10 5.5,4.5\",\"class\":\"s2\"}],[\"path\",{\"d\":\"M0,15 6.5,8.5\",\"class\":\"s2\"}],[\"path\",{\"d\":\"M0,20 8,12\",\"class\":\"s2\"}],[\"path\",{\"d\":\"m5,20 5,-5\",\"class\":\"s2\"}],[\"path\",{\"d\":\"m10,20 2.5,-2.5\",\"class\":\"s2\"}]],[\"g\",{\"id\":\"xmu\"},[\"path\",{\"d\":\"M0,0 20,0\",\"class\":\"s1\"}],[\"path\",{\"d\":\"m0,20 4,0 C 7,10 10,0 20,0\",\"class\":\"s1\"}],[\"path\",{\"d\":\"M0,5 5,0\",\"class\":\"s2\"}],[\"path\",{\"d\":\"M0,10 10,0\",\"class\":\"s2\"}],[\"path\",{\"d\":\"M0,15 10,5\",\"class\":\"s2\"}],[\"path\",{\"d\":\"M0,20 6,14\",\"class\":\"s2\"}]],[\"g\",{\"id\":\"xmz\"},[\"path\",{\"d\":\"m0,0 4,0 c 6,10 11,10 16,10\",\"class\":\"s1\"}],[\"path\",{\"d\":\"m0,20 4,0 C 10,10 15,10 20,10\",\"class\":\"s1\"}],[\"path\",{\"d\":\"M0,5 4.5,0.5\",\"class\":\"s2\"}],[\"path\",{\"d\":\"M0,10 6.5,3.5\",\"class\":\"s2\"}],[\"path\",{\"d\":\"M0,15 8.5,6.5\",\"class\":\"s2\"}],[\"path\",{\"d\":\"M0,20 11.5,8.5\",\"class\":\"s2\"}]],[\"g\",{\"id\":\"ddd\"},[\"path\",{\"d\":\"m0,20 20,0\",\"class\":\"s3\"}]],[\"g\",{\"id\":\"dm0\"},[\"path\",{\"d\":\"m0,20 10,0\",\"class\":\"s3\"}],[\"path\",{\"d\":\"m12,20 8,0\",\"class\":\"s1\"}]],[\"g\",{\"id\":\"dm1\"},[\"path\",{\"d\":\"M0,20 3,20 9,0 20,0\",\"class\":\"s1\"}]],[\"g\",{\"id\":\"dmx\"},[\"path\",{\"d\":\"M3,20 9,0 20,0\",\"class\":\"s1\"}],[\"path\",{\"d\":\"m20,15 -5,5\",\"class\":\"s2\"}],[\"path\",{\"d\":\"M20,10 10,20\",\"class\":\"s2\"}],[\"path\",{\"d\":\"M20,5 5,20\",\"class\":\"s2\"}],[\"path\",{\"d\":\"M20,0 4,16\",\"class\":\"s2\"}],[\"path\",{\"d\":\"M15,0 6,9\",\"class\":\"s2\"}],[\"path\",{\"d\":\"M10,0 9,1\",\"class\":\"s2\"}],[\"path\",{\"d\":\"m0,20 20,0\",\"class\":\"s1\"}]],[\"g\",{\"id\":\"dmd\"},[\"path\",{\"d\":\"m0,20 20,0\",\"class\":\"s3\"}]],[\"g\",{\"id\":\"dmu\"},[\"path\",{\"d\":\"m0,20 3,0 C 7,10 10.107603,0 20,0\",\"class\":\"s1\"}]],[\"g\",{\"id\":\"dmz\"},[\"path\",{\"d\":\"m0,20 3,0 C 10,10 15,10 20,10\",\"class\":\"s1\"}]],[\"g\",{\"id\":\"uuu\"},[\"path\",{\"d\":\"M0,0 20,0\",\"class\":\"s3\"}]],[\"g\",{\"id\":\"um0\"},[\"path\",{\"d\":\"m0,0 3,0 6,20 11,0\",\"class\":\"s1\"}]],[\"g\",{\"id\":\"um1\"},[\"path\",{\"d\":\"M0,0 10,0\",\"class\":\"s3\"}],[\"path\",{\"d\":\"m12,0 8,0\",\"class\":\"s1\"}]],[\"g\",{\"id\":\"umx\"},[\"path\",{\"d\":\"m3,0 6,20 11,0\",\"class\":\"s1\"}],[\"path\",{\"d\":\"M0,0 20,0\",\"class\":\"s1\"}],[\"path\",{\"d\":\"m20,15 -5,5\",\"class\":\"s2\"}],[\"path\",{\"d\":\"M20,10 10,20\",\"class\":\"s2\"}],[\"path\",{\"d\":\"M20,5 8,17\",\"class\":\"s2\"}],[\"path\",{\"d\":\"M20,0 7,13\",\"class\":\"s2\"}],[\"path\",{\"d\":\"M15,0 6,9\",\"class\":\"s2\"}],[\"path\",{\"d\":\"M10,0 5,5\",\"class\":\"s2\"}],[\"path\",{\"d\":\"M3.5,1.5 5,0\",\"class\":\"s2\"}]],[\"g\",{\"id\":\"umd\"},[\"path\",{\"d\":\"m0,0 3,0 c 4,10 7,20 17,20\",\"class\":\"s1\"}]],[\"g\",{\"id\":\"umu\"},[\"path\",{\"d\":\"M0,0 20,0\",\"class\":\"s3\"}]],[\"g\",{\"id\":\"umz\"},[\"path\",{\"d\":\"m0,0 3,0 c 7,10 12,10 17,10\",\"class\":\"s4\"}]],[\"g\",{\"id\":\"zzz\"},[\"path\",{\"d\":\"m0,10 20,0\",\"class\":\"s1\"}]],[\"g\",{\"id\":\"zm0\"},[\"path\",{\"d\":\"m0,10 6,0 3,10 11,0\",\"class\":\"s1\"}]],[\"g\",{\"id\":\"zm1\"},[\"path\",{\"d\":\"M0,10 6,10 9,0 20,0\",\"class\":\"s1\"}]],[\"g\",{\"id\":\"zmx\"},[\"path\",{\"d\":\"m6,10 3,10 11,0\",\"class\":\"s1\"}],[\"path\",{\"d\":\"M0,10 6,10 9,0 20,0\",\"class\":\"s1\"}],[\"path\",{\"d\":\"m20,15 -5,5\",\"class\":\"s2\"}],[\"path\",{\"d\":\"M20,10 10,20\",\"class\":\"s2\"}],[\"path\",{\"d\":\"M20,5 8,17\",\"class\":\"s2\"}],[\"path\",{\"d\":\"M20,0 7,13\",\"class\":\"s2\"}],[\"path\",{\"d\":\"M15,0 6.5,8.5\",\"class\":\"s2\"}],[\"path\",{\"d\":\"M10,0 9,1\",\"class\":\"s2\"}]],[\"g\",{\"id\":\"zmd\"},[\"path\",{\"d\":\"m0,10 7,0 c 3,5 8,10 13,10\",\"class\":\"s1\"}]],[\"g\",{\"id\":\"zmu\"},[\"path\",{\"d\":\"m0,10 7,0 C 10,5 15,0 20,0\",\"class\":\"s1\"}]],[\"g\",{\"id\":\"zmz\"},[\"path\",{\"d\":\"m0,10 20,0\",\"class\":\"s1\"}]],[\"g\",{\"id\":\"gap\"},[\"path\",{\"d\":\"m7,-2 -4,0 c -5,0 -5,24 -10,24 l 4,0 C 2,22 2,-2 7,-2 z\",\"class\":\"s5\"}],[\"path\",{\"d\":\"M-7,22 C -2,22 -2,-2 3,-2\",\"class\":\"s1\"}],[\"path\",{\"d\":\"M-3,22 C 2,22 2,-2 7,-2\",\"class\":\"s1\"}]],[\"g\",{\"id\":\"0mv-3\"},[\"path\",{\"d\":\"M9,0 20,0 20,20 3,20 z\",\"class\":\"s6\"}],[\"path\",{\"d\":\"M3,20 9,0 20,0\",\"class\":\"s1\"}],[\"path\",{\"d\":\"m0,20 20,0\",\"class\":\"s1\"}]],[\"g\",{\"id\":\"1mv-3\"},[\"path\",{\"d\":\"M2.875,0 20,0 20,20 9,20 z\",\"class\":\"s6\"}],[\"path\",{\"d\":\"m3,0 6,20 11,0\",\"class\":\"s1\"}],[\"path\",{\"d\":\"M0,0 20,0\",\"class\":\"s1\"}]],[\"g\",{\"id\":\"xmv-3\"},[\"path\",{\"d\":\"M9,0 20,0 20,20 9,20 6,10 z\",\"class\":\"s6\"}],[\"path\",{\"d\":\"M0,20 3,20 9,0 20,0\",\"class\":\"s1\"}],[\"path\",{\"d\":\"m0,0 3,0 6,20 11,0\",\"class\":\"s1\"}],[\"path\",{\"d\":\"M0,5 3.5,1.5\",\"class\":\"s2\"}],[\"path\",{\"d\":\"M0,10 4.5,5.5\",\"class\":\"s2\"}],[\"path\",{\"d\":\"M0,15 6,9\",\"class\":\"s2\"}],[\"path\",{\"d\":\"M0,20 4,16\",\"class\":\"s2\"}]],[\"g\",{\"id\":\"dmv-3\"},[\"path\",{\"d\":\"M9,0 20,0 20,20 3,20 z\",\"class\":\"s6\"}],[\"path\",{\"d\":\"M3,20 9,0 20,0\",\"class\":\"s1\"}],[\"path\",{\"d\":\"m0,20 20,0\",\"class\":\"s1\"}]],[\"g\",{\"id\":\"umv-3\"},[\"path\",{\"d\":\"M3,0 20,0 20,20 9,20 z\",\"class\":\"s6\"}],[\"path\",{\"d\":\"m3,0 6,20 11,0\",\"class\":\"s1\"}],[\"path\",{\"d\":\"M0,0 20,0\",\"class\":\"s1\"}]],[\"g\",{\"id\":\"zmv-3\"},[\"path\",{\"d\":\"M9,0 20,0 20,20 9,20 6,10 z\",\"class\":\"s6\"}],[\"path\",{\"d\":\"m6,10 3,10 11,0\",\"class\":\"s1\"}],[\"path\",{\"d\":\"M0,10 6,10 9,0 20,0\",\"class\":\"s1\"}]],[\"g\",{\"id\":\"vvv-3\"},[\"path\",{\"d\":\"M20,20 0,20 0,0 20,0\",\"class\":\"s6\"}],[\"path\",{\"d\":\"m0,20 20,0\",\"class\":\"s1\"}],[\"path\",{\"d\":\"M0,0 20,0\",\"class\":\"s1\"}]],[\"g\",{\"id\":\"vm0-3\"},[\"path\",{\"d\":\"M0,20 0,0 3,0 9,20\",\"class\":\"s6\"}],[\"path\",{\"d\":\"M0,0 3,0 9,20\",\"class\":\"s1\"}],[\"path\",{\"d\":\"m0,20 20,0\",\"class\":\"s1\"}]],[\"g\",{\"id\":\"vm1-3\"},[\"path\",{\"d\":\"M0,0 0,20 3,20 9,0\",\"class\":\"s6\"}],[\"path\",{\"d\":\"M0,0 20,0\",\"class\":\"s1\"}],[\"path\",{\"d\":\"M0,20 3,20 9,0\",\"class\":\"s1\"}]],[\"g\",{\"id\":\"vmx-3\"},[\"path\",{\"d\":\"M0,0 0,20 3,20 6,10 3,0\",\"class\":\"s6\"}],[\"path\",{\"d\":\"m0,0 3,0 6,20 11,0\",\"class\":\"s1\"}],[\"path\",{\"d\":\"M0,20 3,20 9,0 20,0\",\"class\":\"s1\"}],[\"path\",{\"d\":\"m20,15 -5,5\",\"class\":\"s2\"}],[\"path\",{\"d\":\"M20,10 10,20\",\"class\":\"s2\"}],[\"path\",{\"d\":\"M20,5 8,17\",\"class\":\"s2\"}],[\"path\",{\"d\":\"M20,0 7,13\",\"class\":\"s2\"}],[\"path\",{\"d\":\"M15,0 7,8\",\"class\":\"s2\"}],[\"path\",{\"d\":\"M10,0 9,1\",\"class\":\"s2\"}]],[\"g\",{\"id\":\"vmd-3\"},[\"path\",{\"d\":\"m0,0 0,20 20,0 C 10,20 7,10 3,0\",\"class\":\"s6\"}],[\"path\",{\"d\":\"m0,0 3,0 c 4,10 7,20 17,20\",\"class\":\"s1\"}],[\"path\",{\"d\":\"m0,20 20,0\",\"class\":\"s1\"}]],[\"g\",{\"id\":\"vmu-3\"},[\"path\",{\"d\":\"m0,0 0,20 3,0 C 7,10 10,0 20,0\",\"class\":\"s6\"}],[\"path\",{\"d\":\"m0,20 3,0 C 7,10 10,0 20,0\",\"class\":\"s1\"}],[\"path\",{\"d\":\"M0,0 20,0\",\"class\":\"s1\"}]],[\"g\",{\"id\":\"vmz-3\"},[\"path\",{\"d\":\"M0,0 3,0 C 10,10 15,10 20,10 15,10 10,10 3,20 L 0,20\",\"class\":\"s6\"}],[\"path\",{\"d\":\"m0,0 3,0 c 7,10 12,10 17,10\",\"class\":\"s1\"}],[\"path\",{\"d\":\"m0,20 3,0 C 10,10 15,10 20,10\",\"class\":\"s1\"}]],[\"g\",{\"id\":\"vmv-3-3\"},[\"path\",{\"d\":\"M9,0 20,0 20,20 9,20 6,10 z\",\"class\":\"s6\"}],[\"path\",{\"d\":\"M3,0 0,0 0,20 3,20 6,10 z\",\"class\":\"s6\"}],[\"path\",{\"d\":\"m0,0 3,0 6,20 11,0\",\"class\":\"s1\"}],[\"path\",{\"d\":\"M0,20 3,20 9,0 20,0\",\"class\":\"s1\"}]],[\"g\",{\"id\":\"vmv-3-4\"},[\"path\",{\"d\":\"M9,0 20,0 20,20 9,20 6,10 z\",\"class\":\"s7\"}],[\"path\",{\"d\":\"M3,0 0,0 0,20 3,20 6,10 z\",\"class\":\"s6\"}],[\"path\",{\"d\":\"m0,0 3,0 6,20 11,0\",\"class\":\"s1\"}],[\"path\",{\"d\":\"M0,20 3,20 9,0 20,0\",\"class\":\"s1\"}]],[\"g\",{\"id\":\"vmv-3-5\"},[\"path\",{\"d\":\"M9,0 20,0 20,20 9,20 6,10 z\",\"class\":\"s8\"}],[\"path\",{\"d\":\"M3,0 0,0 0,20 3,20 6,10 z\",\"class\":\"s6\"}],[\"path\",{\"d\":\"m0,0 3,0 6,20 11,0\",\"class\":\"s1\"}],[\"path\",{\"d\":\"M0,20 3,20 9,0 20,0\",\"class\":\"s1\"}]],[\"g\",{\"id\":\"vmv-4-3\"},[\"path\",{\"d\":\"M9,0 20,0 20,20 9,20 6,10 z\",\"class\":\"s6\"}],[\"path\",{\"d\":\"M3,0 0,0 0,20 3,20 6,10 z\",\"class\":\"s7\"}],[\"path\",{\"d\":\"m0,0 3,0 6,20 11,0\",\"class\":\"s1\"}],[\"path\",{\"d\":\"M0,20 3,20 9,0 20,0\",\"class\":\"s1\"}]],[\"g\",{\"id\":\"vmv-4-4\"},[\"path\",{\"d\":\"M9,0 20,0 20,20 9,20 6,10 z\",\"class\":\"s7\"}],[\"path\",{\"d\":\"M3,0 0,0 0,20 3,20 6,10 z\",\"class\":\"s7\"}],[\"path\",{\"d\":\"m0,0 3,0 6,20 11,0\",\"class\":\"s1\"}],[\"path\",{\"d\":\"M0,20 3,20 9,0 20,0\",\"class\":\"s1\"}]],[\"g\",{\"id\":\"vmv-4-5\"},[\"path\",{\"d\":\"M9,0 20,0 20,20 9,20 6,10 z\",\"class\":\"s8\"}],[\"path\",{\"d\":\"M3,0 0,0 0,20 3,20 6,10 z\",\"class\":\"s7\"}],[\"path\",{\"d\":\"m0,0 3,0 6,20 11,0\",\"class\":\"s1\"}],[\"path\",{\"d\":\"M0,20 3,20 9,0 20,0\",\"class\":\"s1\"}]],[\"g\",{\"id\":\"vmv-5-3\"},[\"path\",{\"d\":\"M9,0 20,0 20,20 9,20 6,10 z\",\"class\":\"s6\"}],[\"path\",{\"d\":\"M3,0 0,0 0,20 3,20 6,10 z\",\"class\":\"s8\"}],[\"path\",{\"d\":\"m0,0 3,0 6,20 11,0\",\"class\":\"s1\"}],[\"path\",{\"d\":\"M0,20 3,20 9,0 20,0\",\"class\":\"s1\"}]],[\"g\",{\"id\":\"vmv-5-4\"},[\"path\",{\"d\":\"M9,0 20,0 20,20 9,20 6,10 z\",\"class\":\"s7\"}],[\"path\",{\"d\":\"M3,0 0,0 0,20 3,20 6,10 z\",\"class\":\"s8\"}],[\"path\",{\"d\":\"m0,0 3,0 6,20 11,0\",\"class\":\"s1\"}],[\"path\",{\"d\":\"M0,20 3,20 9,0 20,0\",\"class\":\"s1\"}]],[\"g\",{\"id\":\"vmv-5-5\"},[\"path\",{\"d\":\"M9,0 20,0 20,20 9,20 6,10 z\",\"class\":\"s8\"}],[\"path\",{\"d\":\"M3,0 0,0 0,20 3,20 6,10 z\",\"class\":\"s8\"}],[\"path\",{\"d\":\"m0,0 3,0 6,20 11,0\",\"class\":\"s1\"}],[\"path\",{\"d\":\"M0,20 3,20 9,0 20,0\",\"class\":\"s1\"}]],[\"g\",{\"id\":\"0mv-4\"},[\"path\",{\"d\":\"M9,0 20,0 20,20 3,20 z\",\"class\":\"s7\"}],[\"path\",{\"d\":\"M3,20 9,0 20,0\",\"class\":\"s1\"}],[\"path\",{\"d\":\"m0,20 20,0\",\"class\":\"s1\"}]],[\"g\",{\"id\":\"1mv-4\"},[\"path\",{\"d\":\"M2.875,0 20,0 20,20 9,20 z\",\"class\":\"s7\"}],[\"path\",{\"d\":\"m3,0 6,20 11,0\",\"class\":\"s1\"}],[\"path\",{\"d\":\"M0,0 20,0\",\"class\":\"s1\"}]],[\"g\",{\"id\":\"xmv-4\"},[\"path\",{\"d\":\"M9,0 20,0 20,20 9,20 6,10 z\",\"class\":\"s7\"}],[\"path\",{\"d\":\"M0,20 3,20 9,0 20,0\",\"class\":\"s1\"}],[\"path\",{\"d\":\"m0,0 3,0 6,20 11,0\",\"class\":\"s1\"}],[\"path\",{\"d\":\"M0,5 3.5,1.5\",\"class\":\"s2\"}],[\"path\",{\"d\":\"M0,10 4.5,5.5\",\"class\":\"s2\"}],[\"path\",{\"d\":\"M0,15 6,9\",\"class\":\"s2\"}],[\"path\",{\"d\":\"M0,20 4,16\",\"class\":\"s2\"}]],[\"g\",{\"id\":\"dmv-4\"},[\"path\",{\"d\":\"M9,0 20,0 20,20 3,20 z\",\"class\":\"s7\"}],[\"path\",{\"d\":\"M3,20 9,0 20,0\",\"class\":\"s1\"}],[\"path\",{\"d\":\"m0,20 20,0\",\"class\":\"s1\"}]],[\"g\",{\"id\":\"umv-4\"},[\"path\",{\"d\":\"M3,0 20,0 20,20 9,20 z\",\"class\":\"s7\"}],[\"path\",{\"d\":\"m3,0 6,20 11,0\",\"class\":\"s1\"}],[\"path\",{\"d\":\"M0,0 20,0\",\"class\":\"s1\"}]],[\"g\",{\"id\":\"zmv-4\"},[\"path\",{\"d\":\"M9,0 20,0 20,20 9,20 6,10 z\",\"class\":\"s7\"}],[\"path\",{\"d\":\"m6,10 3,10 11,0\",\"class\":\"s1\"}],[\"path\",{\"d\":\"M0,10 6,10 9,0 20,0\",\"class\":\"s1\"}]],[\"g\",{\"id\":\"0mv-5\"},[\"path\",{\"d\":\"M9,0 20,0 20,20 3,20 z\",\"class\":\"s8\"}],[\"path\",{\"d\":\"M3,20 9,0 20,0\",\"class\":\"s1\"}],[\"path\",{\"d\":\"m0,20 20,0\",\"class\":\"s1\"}]],[\"g\",{\"id\":\"1mv-5\"},[\"path\",{\"d\":\"M2.875,0 20,0 20,20 9,20 z\",\"class\":\"s8\"}],[\"path\",{\"d\":\"m3,0 6,20 11,0\",\"class\":\"s1\"}],[\"path\",{\"d\":\"M0,0 20,0\",\"class\":\"s1\"}]],[\"g\",{\"id\":\"xmv-5\"},[\"path\",{\"d\":\"M9,0 20,0 20,20 9,20 6,10 z\",\"class\":\"s8\"}],[\"path\",{\"d\":\"M0,20 3,20 9,0 20,0\",\"class\":\"s1\"}],[\"path\",{\"d\":\"m0,0 3,0 6,20 11,0\",\"class\":\"s1\"}],[\"path\",{\"d\":\"M0,5 3.5,1.5\",\"class\":\"s2\"}],[\"path\",{\"d\":\"M0,10 4.5,5.5\",\"class\":\"s2\"}],[\"path\",{\"d\":\"M0,15 6,9\",\"class\":\"s2\"}],[\"path\",{\"d\":\"M0,20 4,16\",\"class\":\"s2\"}]],[\"g\",{\"id\":\"dmv-5\"},[\"path\",{\"d\":\"M9,0 20,0 20,20 3,20 z\",\"class\":\"s8\"}],[\"path\",{\"d\":\"M3,20 9,0 20,0\",\"class\":\"s1\"}],[\"path\",{\"d\":\"m0,20 20,0\",\"class\":\"s1\"}]],[\"g\",{\"id\":\"umv-5\"},[\"path\",{\"d\":\"M3,0 20,0 20,20 9,20 z\",\"class\":\"s8\"}],[\"path\",{\"d\":\"m3,0 6,20 11,0\",\"class\":\"s1\"}],[\"path\",{\"d\":\"M0,0 20,0\",\"class\":\"s1\"}]],[\"g\",{\"id\":\"zmv-5\"},[\"path\",{\"d\":\"M9,0 20,0 20,20 9,20 6,10 z\",\"class\":\"s8\"}],[\"path\",{\"d\":\"m6,10 3,10 11,0\",\"class\":\"s1\"}],[\"path\",{\"d\":\"M0,10 6,10 9,0 20,0\",\"class\":\"s1\"}]],[\"g\",{\"id\":\"vvv-4\"},[\"path\",{\"d\":\"M20,20 0,20 0,0 20,0\",\"class\":\"s7\"}],[\"path\",{\"d\":\"m0,20 20,0\",\"class\":\"s1\"}],[\"path\",{\"d\":\"M0,0 20,0\",\"class\":\"s1\"}]],[\"g\",{\"id\":\"vm0-4\"},[\"path\",{\"d\":\"M0,20 0,0 3,0 9,20\",\"class\":\"s7\"}],[\"path\",{\"d\":\"M0,0 3,0 9,20\",\"class\":\"s1\"}],[\"path\",{\"d\":\"m0,20 20,0\",\"class\":\"s1\"}]],[\"g\",{\"id\":\"vm1-4\"},[\"path\",{\"d\":\"M0,0 0,20 3,20 9,0\",\"class\":\"s7\"}],[\"path\",{\"d\":\"M0,0 20,0\",\"class\":\"s1\"}],[\"path\",{\"d\":\"M0,20 3,20 9,0\",\"class\":\"s1\"}]],[\"g\",{\"id\":\"vmx-4\"},[\"path\",{\"d\":\"M0,0 0,20 3,20 6,10 3,0\",\"class\":\"s7\"}],[\"path\",{\"d\":\"m0,0 3,0 6,20 11,0\",\"class\":\"s1\"}],[\"path\",{\"d\":\"M0,20 3,20 9,0 20,0\",\"class\":\"s1\"}],[\"path\",{\"d\":\"m20,15 -5,5\",\"class\":\"s2\"}],[\"path\",{\"d\":\"M20,10 10,20\",\"class\":\"s2\"}],[\"path\",{\"d\":\"M20,5 8,17\",\"class\":\"s2\"}],[\"path\",{\"d\":\"M20,0 7,13\",\"class\":\"s2\"}],[\"path\",{\"d\":\"M15,0 7,8\",\"class\":\"s2\"}],[\"path\",{\"d\":\"M10,0 9,1\",\"class\":\"s2\"}]],[\"g\",{\"id\":\"vmd-4\"},[\"path\",{\"d\":\"m0,0 0,20 20,0 C 10,20 7,10 3,0\",\"class\":\"s7\"}],[\"path\",{\"d\":\"m0,0 3,0 c 4,10 7,20 17,20\",\"class\":\"s1\"}],[\"path\",{\"d\":\"m0,20 20,0\",\"class\":\"s1\"}]],[\"g\",{\"id\":\"vmu-4\"},[\"path\",{\"d\":\"m0,0 0,20 3,0 C 7,10 10,0 20,0\",\"class\":\"s7\"}],[\"path\",{\"d\":\"m0,20 3,0 C 7,10 10,0 20,0\",\"class\":\"s1\"}],[\"path\",{\"d\":\"M0,0 20,0\",\"class\":\"s1\"}]],[\"g\",{\"id\":\"vmz-4\"},[\"path\",{\"d\":\"M0,0 3,0 C 10,10 15,10 20,10 15,10 10,10 3,20 L 0,20\",\"class\":\"s7\"}],[\"path\",{\"d\":\"m0,0 3,0 c 7,10 12,10 17,10\",\"class\":\"s1\"}],[\"path\",{\"d\":\"m0,20 3,0 C 10,10 15,10 20,10\",\"class\":\"s1\"}]],[\"g\",{\"id\":\"vvv-5\"},[\"path\",{\"d\":\"M20,20 0,20 0,0 20,0\",\"class\":\"s8\"}],[\"path\",{\"d\":\"m0,20 20,0\",\"class\":\"s1\"}],[\"path\",{\"d\":\"M0,0 20,0\",\"class\":\"s1\"}]],[\"g\",{\"id\":\"vm0-5\"},[\"path\",{\"d\":\"M0,20 0,0 3,0 9,20\",\"class\":\"s8\"}],[\"path\",{\"d\":\"M0,0 3,0 9,20\",\"class\":\"s1\"}],[\"path\",{\"d\":\"m0,20 20,0\",\"class\":\"s1\"}]],[\"g\",{\"id\":\"vm1-5\"},[\"path\",{\"d\":\"M0,0 0,20 3,20 9,0\",\"class\":\"s8\"}],[\"path\",{\"d\":\"M0,0 20,0\",\"class\":\"s1\"}],[\"path\",{\"d\":\"M0,20 3,20 9,0\",\"class\":\"s1\"}]],[\"g\",{\"id\":\"vmx-5\"},[\"path\",{\"d\":\"M0,0 0,20 3,20 6,10 3,0\",\"class\":\"s8\"}],[\"path\",{\"d\":\"m0,0 3,0 6,20 11,0\",\"class\":\"s1\"}],[\"path\",{\"d\":\"M0,20 3,20 9,0 20,0\",\"class\":\"s1\"}],[\"path\",{\"d\":\"m20,15 -5,5\",\"class\":\"s2\"}],[\"path\",{\"d\":\"M20,10 10,20\",\"class\":\"s2\"}],[\"path\",{\"d\":\"M20,5 8,17\",\"class\":\"s2\"}],[\"path\",{\"d\":\"M20,0 7,13\",\"class\":\"s2\"}],[\"path\",{\"d\":\"M15,0 7,8\",\"class\":\"s2\"}],[\"path\",{\"d\":\"M10,0 9,1\",\"class\":\"s2\"}]],[\"g\",{\"id\":\"vmd-5\"},[\"path\",{\"d\":\"m0,0 0,20 20,0 C 10,20 7,10 3,0\",\"class\":\"s8\"}],[\"path\",{\"d\":\"m0,0 3,0 c 4,10 7,20 17,20\",\"class\":\"s1\"}],[\"path\",{\"d\":\"m0,20 20,0\",\"class\":\"s1\"}]],[\"g\",{\"id\":\"vmu-5\"},[\"path\",{\"d\":\"m0,0 0,20 3,0 C 7,10 10,0 20,0\",\"class\":\"s8\"}],[\"path\",{\"d\":\"m0,20 3,0 C 7,10 10,0 20,0\",\"class\":\"s1\"}],[\"path\",{\"d\":\"M0,0 20,0\",\"class\":\"s1\"}]],[\"g\",{\"id\":\"vmz-5\"},[\"path\",{\"d\":\"M0,0 3,0 C 10,10 15,10 20,10 15,10 10,10 3,20 L 0,20\",\"class\":\"s8\"}],[\"path\",{\"d\":\"m0,0 3,0 c 7,10 12,10 17,10\",\"class\":\"s1\"}],[\"path\",{\"d\":\"m0,20 3,0 C 10,10 15,10 20,10\",\"class\":\"s1\"}]],[\"g\",{\"id\":\"Pclk\"},[\"path\",{\"d\":\"M-3,12 0,3 3,12 C 1,11 -1,11 -3,12 z\",\"class\":\"s9\"}],[\"path\",{\"d\":\"M0,20 0,0 20,0\",\"class\":\"s1\"}]],[\"g\",{\"id\":\"Nclk\"},[\"path\",{\"d\":\"M-3,8 0,17 3,8 C 1,9 -1,9 -3,8 z\",\"class\":\"s9\"}],[\"path\",{\"d\":\"m0,0 0,20 20,0\",\"class\":\"s1\"}]],[\"g\",{\"id\":\"vvv-2\"},[\"path\",{\"d\":\"M20,20 0,20 0,0 20,0\",\"class\":\"s10\"}],[\"path\",{\"d\":\"m0,20 20,0\",\"class\":\"s1\"}],[\"path\",{\"d\":\"M0,0 20,0\",\"class\":\"s1\"}]],[\"g\",{\"id\":\"vm0-2\"},[\"path\",{\"d\":\"M0,20 0,0 3,0 9,20\",\"class\":\"s10\"}],[\"path\",{\"d\":\"M0,0 3,0 9,20\",\"class\":\"s1\"}],[\"path\",{\"d\":\"m0,20 20,0\",\"class\":\"s1\"}]],[\"g\",{\"id\":\"vm1-2\"},[\"path\",{\"d\":\"M0,0 0,20 3,20 9,0\",\"class\":\"s10\"}],[\"path\",{\"d\":\"M0,0 20,0\",\"class\":\"s1\"}],[\"path\",{\"d\":\"M0,20 3,20 9,0\",\"class\":\"s1\"}]],[\"g\",{\"id\":\"vmx-2\"},[\"path\",{\"d\":\"M0,0 0,20 3,20 6,10 3,0\",\"class\":\"s10\"}],[\"path\",{\"d\":\"m0,0 3,0 6,20 11,0\",\"class\":\"s1\"}],[\"path\",{\"d\":\"M0,20 3,20 9,0 20,0\",\"class\":\"s1\"}],[\"path\",{\"d\":\"m20,15 -5,5\",\"class\":\"s2\"}],[\"path\",{\"d\":\"M20,10 10,20\",\"class\":\"s2\"}],[\"path\",{\"d\":\"M20,5 8,17\",\"class\":\"s2\"}],[\"path\",{\"d\":\"M20,0 7,13\",\"class\":\"s2\"}],[\"path\",{\"d\":\"M15,0 7,8\",\"class\":\"s2\"}],[\"path\",{\"d\":\"M10,0 9,1\",\"class\":\"s2\"}]],[\"g\",{\"id\":\"vmd-2\"},[\"path\",{\"d\":\"m0,0 0,20 20,0 C 10,20 7,10 3,0\",\"class\":\"s10\"}],[\"path\",{\"d\":\"m0,0 3,0 c 4,10 7,20 17,20\",\"class\":\"s1\"}],[\"path\",{\"d\":\"m0,20 20,0\",\"class\":\"s1\"}]],[\"g\",{\"id\":\"vmu-2\"},[\"path\",{\"d\":\"m0,0 0,20 3,0 C 7,10 10,0 20,0\",\"class\":\"s10\"}],[\"path\",{\"d\":\"m0,20 3,0 C 7,10 10,0 20,0\",\"class\":\"s1\"}],[\"path\",{\"d\":\"M0,0 20,0\",\"class\":\"s1\"}]],[\"g\",{\"id\":\"vmz-2\"},[\"path\",{\"d\":\"M0,0 3,0 C 10,10 15,10 20,10 15,10 10,10 3,20 L 0,20\",\"class\":\"s10\"}],[\"path\",{\"d\":\"m0,0 3,0 c 7,10 12,10 17,10\",\"class\":\"s1\"}],[\"path\",{\"d\":\"m0,20 3,0 C 10,10 15,10 20,10\",\"class\":\"s1\"}]],[\"g\",{\"id\":\"0mv-2\"},[\"path\",{\"d\":\"M9,0 20,0 20,20 3,20 z\",\"class\":\"s10\"}],[\"path\",{\"d\":\"M3,20 9,0 20,0\",\"class\":\"s1\"}],[\"path\",{\"d\":\"m0,20 20,0\",\"class\":\"s1\"}]],[\"g\",{\"id\":\"1mv-2\"},[\"path\",{\"d\":\"M2.875,0 20,0 20,20 9,20 z\",\"class\":\"s10\"}],[\"path\",{\"d\":\"m3,0 6,20 11,0\",\"class\":\"s1\"}],[\"path\",{\"d\":\"M0,0 20,0\",\"class\":\"s1\"}]],[\"g\",{\"id\":\"xmv-2\"},[\"path\",{\"d\":\"M9,0 20,0 20,20 9,20 6,10 z\",\"class\":\"s10\"}],[\"path\",{\"d\":\"M0,20 3,20 9,0 20,0\",\"class\":\"s1\"}],[\"path\",{\"d\":\"m0,0 3,0 6,20 11,0\",\"class\":\"s1\"}],[\"path\",{\"d\":\"M0,5 3.5,1.5\",\"class\":\"s2\"}],[\"path\",{\"d\":\"M0,10 4.5,5.5\",\"class\":\"s2\"}],[\"path\",{\"d\":\"M0,15 6,9\",\"class\":\"s2\"}],[\"path\",{\"d\":\"M0,20 4,16\",\"class\":\"s2\"}]],[\"g\",{\"id\":\"dmv-2\"},[\"path\",{\"d\":\"M9,0 20,0 20,20 3,20 z\",\"class\":\"s10\"}],[\"path\",{\"d\":\"M3,20 9,0 20,0\",\"class\":\"s1\"}],[\"path\",{\"d\":\"m0,20 20,0\",\"class\":\"s1\"}]],[\"g\",{\"id\":\"umv-2\"},[\"path\",{\"d\":\"M3,0 20,0 20,20 9,20 z\",\"class\":\"s10\"}],[\"path\",{\"d\":\"m3,0 6,20 11,0\",\"class\":\"s1\"}],[\"path\",{\"d\":\"M0,0 20,0\",\"class\":\"s1\"}]],[\"g\",{\"id\":\"zmv-2\"},[\"path\",{\"d\":\"M9,0 20,0 20,20 9,20 6,10 z\",\"class\":\"s10\"}],[\"path\",{\"d\":\"m6,10 3,10 11,0\",\"class\":\"s1\"}],[\"path\",{\"d\":\"M0,10 6,10 9,0 20,0\",\"class\":\"s1\"}]],[\"g\",{\"id\":\"vmv-3-2\"},[\"path\",{\"d\":\"M9,0 20,0 20,20 9,20 6,10 z\",\"class\":\"s10\"}],[\"path\",{\"d\":\"M3,0 0,0 0,20 3,20 6,10 z\",\"class\":\"s6\"}],[\"path\",{\"d\":\"m0,0 3,0 6,20 11,0\",\"class\":\"s1\"}],[\"path\",{\"d\":\"M0,20 3,20 9,0 20,0\",\"class\":\"s1\"}]],[\"g\",{\"id\":\"vmv-4-2\"},[\"path\",{\"d\":\"M9,0 20,0 20,20 9,20 6,10 z\",\"class\":\"s10\"}],[\"path\",{\"d\":\"M3,0 0,0 0,20 3,20 6,10 z\",\"class\":\"s7\"}],[\"path\",{\"d\":\"m0,0 3,0 6,20 11,0\",\"class\":\"s1\"}],[\"path\",{\"d\":\"M0,20 3,20 9,0 20,0\",\"class\":\"s1\"}]],[\"g\",{\"id\":\"vmv-5-2\"},[\"path\",{\"d\":\"M9,0 20,0 20,20 9,20 6,10 z\",\"class\":\"s10\"}],[\"path\",{\"d\":\"M3,0 0,0 0,20 3,20 6,10 z\",\"class\":\"s8\"}],[\"path\",{\"d\":\"m0,0 3,0 6,20 11,0\",\"class\":\"s1\"}],[\"path\",{\"d\":\"M0,20 3,20 9,0 20,0\",\"class\":\"s1\"}]],[\"g\",{\"id\":\"vmv-2-3\"},[\"path\",{\"d\":\"M9,0 20,0 20,20 9,20 6,10 z\",\"class\":\"s6\"}],[\"path\",{\"d\":\"M3,0 0,0 0,20 3,20 6,10 z\",\"class\":\"s10\"}],[\"path\",{\"d\":\"m0,0 3,0 6,20 11,0\",\"class\":\"s1\"}],[\"path\",{\"d\":\"M0,20 3,20 9,0 20,0\",\"class\":\"s1\"}]],[\"g\",{\"id\":\"vmv-2-4\"},[\"path\",{\"d\":\"M9,0 20,0 20,20 9,20 6,10 z\",\"class\":\"s7\"}],[\"path\",{\"d\":\"M3,0 0,0 0,20 3,20 6,10 z\",\"class\":\"s10\"}],[\"path\",{\"d\":\"m0,0 3,0 6,20 11,0\",\"class\":\"s1\"}],[\"path\",{\"d\":\"M0,20 3,20 9,0 20,0\",\"class\":\"s1\"}]],[\"g\",{\"id\":\"vmv-2-5\"},[\"path\",{\"d\":\"M9,0 20,0 20,20 9,20 6,10 z\",\"class\":\"s8\"}],[\"path\",{\"d\":\"M3,0 0,0 0,20 3,20 6,10 z\",\"class\":\"s10\"}],[\"path\",{\"d\":\"m0,0 3,0 6,20 11,0\",\"class\":\"s1\"}],[\"path\",{\"d\":\"M0,20 3,20 9,0 20,0\",\"class\":\"s1\"}]],[\"g\",{\"id\":\"vmv-2-2\"},[\"path\",{\"d\":\"M9,0 20,0 20,20 9,20 6,10 z\",\"class\":\"s10\"}],[\"path\",{\"d\":\"M3,0 0,0 0,20 3,20 6,10 z\",\"class\":\"s10\"}],[\"path\",{\"d\":\"m0,0 3,0 6,20 11,0\",\"class\":\"s1\"}],[\"path\",{\"d\":\"M0,20 3,20 9,0 20,0\",\"class\":\"s1\"}]],[\"g\",{\"id\":\"arrow0\"},[\"path\",{\"d\":\"m-12,-3 9,3 -9,3 c 1,-2 1,-4 0,-6 z\",\"class\":\"s11\"}],[\"path\",{\"d\":\"M0,0 -15,0\",\"class\":\"s12\"}]],[\"marker\",{\"id\":\"arrowhead\",\"style\":\"fill:#0041c4\",\"markerHeight\":\"7\",\"markerWidth\":\"10\",\"markerUnits\":\"strokeWidth\",\"viewBox\":\"0 -4 11 8\",\"refX\":\"15\",\"refY\":\"0\",\"orient\":\"auto\"},[\"path\",{\"d\":\"M0 -4 11 0 0 4z\"}]],[\"marker\",{\"id\":\"arrowtail\",\"style\":\"fill:#0041c4\",\"markerHeight\":\"7\",\"markerWidth\":\"10\",\"markerUnits\":\"strokeWidth\",\"viewBox\":\"-11 -4 11 8\",\"refX\":\"-15\",\"refY\":\"0\",\"orient\":\"auto\"},[\"path\",{\"d\":\"M0 -4 -11 0 0 4z\"}]]],[\"g\",{\"id\":\"waves\"},[\"g\",{\"id\":\"lanes\"}],[\"g\",{\"id\":\"groups\"}]]];\n",
              "</script><script>/*! wavedrom 2016-07-28 */\n",
              "!function a(b,c,d){function e(g,h){if(!c[g]){if(!b[g]){var i=\"function\"==typeof require&&require;if(!h&&i)return i(g,!0);if(f)return f(g,!0);var j=new Error(\"Cannot find module '\"+g+\"'\");throw j.code=\"MODULE_NOT_FOUND\",j}var k=c[g]={exports:{}};b[g][0].call(k.exports,function(a){var c=b[g][1][a];return e(c?c:a)},k,k.exports,a,b,c,d)}return c[g].exports}for(var f=\"function\"==typeof require&&require,g=0;g<d.length;g++)e(d[g]);return e}({1:[function(a,b,c){\"use strict\";function d(a,b){function c(a){var b=parseInt(e.style.left,10),d=parseInt(e.style.top,10);(a.x<b||a.x>b+e.offsetWidth||a.y<d||a.y>d+e.offsetHeight)&&(e.parentNode.removeChild(e),document.body.removeEventListener(\"mousedown\",c,!1))}var d,e;d=document.getElementById(b+a),d.childNodes[0].addEventListener(\"contextmenu\",function(f){var g,h,i;e=document.createElement(\"div\"),e.className=\"wavedromMenu\",e.style.top=f.y+\"px\",e.style.left=f.x+\"px\",g=document.createElement(\"ul\"),h=document.createElement(\"li\"),h.innerHTML=\"Save as PNG\",g.appendChild(h),i=document.createElement(\"li\"),i.innerHTML=\"Save as SVG\",g.appendChild(i),e.appendChild(g),document.body.appendChild(e),h.addEventListener(\"click\",function(){var f,g,h,i,j,k,l,m;f=\"\",0!==a&&(g=document.getElementById(b+0),f+=g.innerHTML.substring(166,g.innerHTML.indexOf('<g id=\"waves_0\">'))),f=[d.innerHTML.slice(0,166),f,d.innerHTML.slice(166)].join(\"\"),h=\"data:image/svg+xml;base64,\"+btoa(f),i=new Image,i.src=h,j=document.createElement(\"canvas\"),j.width=i.width,j.height=i.height,k=j.getContext(\"2d\"),k.drawImage(i,0,0),l=j.toDataURL(\"image/png\"),m=document.createElement(\"a\"),m.href=l,m.download=\"wavedrom.png\",m.click(),e.parentNode.removeChild(e),document.body.removeEventListener(\"mousedown\",c,!1)},!1),i.addEventListener(\"click\",function(){var f,g,h,i;f=\"\",0!==a&&(g=document.getElementById(b+0),f+=g.innerHTML.substring(166,g.innerHTML.indexOf('<g id=\"waves_0\">'))),f=[d.innerHTML.slice(0,166),f,d.innerHTML.slice(166)].join(\"\"),h=\"data:image/svg+xml;base64,\"+btoa(f),i=document.createElement(\"a\"),i.href=h,i.download=\"wavedrom.svg\",i.click(),e.parentNode.removeChild(e),document.body.removeEventListener(\"mousedown\",c,!1)},!1),e.addEventListener(\"contextmenu\",function(a){a.preventDefault()},!1),document.body.addEventListener(\"mousedown\",c,!1),f.preventDefault()},!1)}b.exports=d},{}],2:[function(a,b,c){\"use strict\";var d=a(\"./jsonml-parse\");b.exports=d},{\"./jsonml-parse\":15}],3:[function(a,b,c){\"use strict\";function d(){f(0,e(\"InputJSON_0\"),\"WaveDrom_Display_\")}var e=a(\"./eva\"),f=a(\"./render-wave-form\");b.exports=d},{\"./eva\":4,\"./render-wave-form\":28}],4:[function(require,module,exports){\"use strict\";function eva(id){function erra(a){return{signal:[{name:[\"tspan\",[\"tspan\",{class:\"error h5\"},\"Error: \"],a.message]}]}}var TheTextBox,source;if(TheTextBox=document.getElementById(id),TheTextBox.type&&\"textarea\"===TheTextBox.type)try{source=eval(\"(\"+TheTextBox.value+\")\")}catch(a){return erra(a)}else try{source=eval(\"(\"+TheTextBox.innerHTML+\")\")}catch(a){return erra(a)}if(\"[object Object]\"!==Object.prototype.toString.call(source))return erra({message:'[Semantic]: The root has to be an Object: \"{signal:[...]}\"'});if(source.signal){if(\"[object Array]\"!==Object.prototype.toString.call(source.signal))return erra({message:'[Semantic]: \"signal\" object has to be an Array \"signal:[]\"'})}else{if(!source.assign)return erra({message:'[Semantic]: \"signal:[...]\" or \"assign:[...]\" property is missing inside the root Object'});if(\"[object Array]\"!==Object.prototype.toString.call(source.assign))return erra({message:'[Semantic]: \"assign\" object hasto be an Array \"assign:[]\"'})}return source}module.exports=eva},{}],5:[function(a,b,c){\"use strict\";function d(a){var b=0,c=0,d=[];return a.forEach(function(a){\"vvv-2\"===a||\"vvv-3\"===a||\"vvv-4\"===a||\"vvv-5\"===a?c+=1:0!==c&&(d.push(b-(c+1)/2),c=0),b+=1}),0!==c&&d.push(b-(c+1)/2),d}b.exports=d},{}],6:[function(a,b,c){\"use strict\";function d(a,b,c){var d,e,f=[];if(4===a.length){for(e=0;e<c;e+=1){for(f.push(a[0]),d=0;d<b;d+=1)f.push(a[1]);for(f.push(a[2]),d=0;d<b;d+=1)f.push(a[3])}return f}for(1===a.length&&a.push(a[0]),f.push(a[0]),d=0;d<c*(2*(b+1))-1;d+=1)f.push(a[1]);return f}b.exports=d},{}],7:[function(a,b,c){\"use strict\";function d(a,b,c){var d;switch(d=[],a){case\"p\":d=e([\"pclk\",\"111\",\"nclk\",\"000\"],b,c);break;case\"n\":d=e([\"nclk\",\"000\",\"pclk\",\"111\"],b,c);break;case\"P\":d=e([\"Pclk\",\"111\",\"nclk\",\"000\"],b,c);break;case\"N\":d=e([\"Nclk\",\"000\",\"pclk\",\"111\"],b,c);break;case\"l\":case\"L\":case\"0\":d=e([\"000\"],b,c);break;case\"h\":case\"H\":case\"1\":d=e([\"111\"],b,c);break;case\"=\":d=e([\"vvv-2\"],b,c);break;case\"2\":d=e([\"vvv-2\"],b,c);break;case\"3\":d=e([\"vvv-3\"],b,c);break;case\"4\":d=e([\"vvv-4\"],b,c);break;case\"5\":d=e([\"vvv-5\"],b,c);break;case\"d\":d=e([\"ddd\"],b,c);break;case\"u\":d=e([\"uuu\"],b,c);break;case\"z\":d=e([\"zzz\"],b,c);break;default:d=e([\"xxx\"],b,c)}return d}var e=a(\"./gen-brick\");b.exports=d},{\"./gen-brick\":6}],8:[function(a,b,c){\"use strict\";function d(a,b,c){var d,f,g,h,i,j,k,l,m,n,o,p,q,r,s;return d={p:\"pclk\",n:\"nclk\",P:\"Pclk\",N:\"Nclk\",h:\"pclk\",l:\"nclk\",H:\"Pclk\",L:\"Nclk\"},f={0:\"0\",1:\"1\",x:\"x\",d:\"d\",u:\"u\",z:\"z\",\"=\":\"v\",2:\"v\",3:\"v\",4:\"v\",5:\"v\"},g={0:\"\",1:\"\",x:\"\",d:\"\",u:\"\",z:\"\",\"=\":\"-2\",2:\"-2\",3:\"-3\",4:\"-4\",5:\"-5\"},h={p:\"0\",n:\"1\",P:\"0\",N:\"1\",h:\"1\",l:\"0\",H:\"1\",L:\"0\",0:\"0\",1:\"1\",x:\"x\",d:\"d\",u:\"u\",z:\"z\",\"=\":\"v\",2:\"v\",3:\"v\",4:\"v\",5:\"v\"},i={p:\"\",n:\"\",P:\"\",N:\"\",h:\"\",l:\"\",H:\"\",L:\"\",0:\"\",1:\"\",x:\"\",d:\"\",u:\"\",z:\"\",\"=\":\"-2\",2:\"-2\",3:\"-3\",4:\"-4\",5:\"-5\"},j={p:\"111\",n:\"000\",P:\"111\",N:\"000\",h:\"111\",l:\"000\",H:\"111\",L:\"000\",0:\"000\",1:\"111\",x:\"xxx\",d:\"ddd\",u:\"uuu\",z:\"zzz\",\"=\":\"vvv-2\",2:\"vvv-2\",3:\"vvv-3\",4:\"vvv-4\",5:\"vvv-5\"},k={p:\"nclk\",n:\"pclk\",P:\"nclk\",N:\"pclk\"},l={p:\"000\",n:\"111\",P:\"000\",N:\"111\"},m={hp:\"111\",Hp:\"111\",ln:\"000\",Ln:\"000\",nh:\"111\",Nh:\"111\",pl:\"000\",Pl:\"000\"},n=a.split(\"\"),o=j[n[1]],p=d[n[1]],void 0===p?(q=f[n[1]],void 0===q?e([\"xxx\"],b,c):(r=h[n[0]],void 0===r?e([\"xxx\"],b,c):e([r+\"m\"+q+i[n[0]]+g[n[1]],o],b,c))):(s=m[a],void 0!==s&&(p=s),q=k[n[1]],void 0===q?e([p,o],b,c):e([p,o,q,l[n[1]]],b,c))}var e=a(\"./gen-brick\");b.exports=d},{\"./gen-brick\":6}],9:[function(a,b,c){\"use strict\";var d=a(\"./process-all\"),e=a(\"./eva\"),f=a(\"./render-wave-form\"),g=a(\"./editor-refresh\");b.exports={processAll:d,eva:e,renderWaveForm:f,editorRefresh:g}},{\"./editor-refresh\":3,\"./eva\":4,\"./process-all\":21,\"./render-wave-form\":28}],10:[function(a,b,c){\"use strict\";function d(a,b){for(var c,d;b.childNodes.length;)b.removeChild(b.childNodes[0]);d=[\"svg\",{id:\"svgcontent_\"+a,xmlns:f.svg,\"xmlns:xlink\":f.xlink,overflow:\"hidden\"},[\"style\",\".pinname {font-size:12px; font-style:normal; font-variant:normal; font-weight:500; font-stretch:normal; text-align:center; text-anchor:end; font-family:Helvetica} .wirename {font-size:12px; font-style:normal; font-variant:normal; font-weight:500; font-stretch:normal; text-align:center; text-anchor:start; font-family:Helvetica} .wirename:hover {fill:blue} .gate {color:#000; fill:#ffc; fill-opacity: 1;stroke:#000; stroke-width:1; stroke-opacity:1} .gate:hover {fill:red !important; } .wire {fill:none; stroke:#000; stroke-width:1; stroke-opacity:1} .grid {fill:#fff; fill-opacity:1; stroke:none}\"]],c=e(d),b.insertBefore(c,null)}var e=a(\"./create-element\"),f=a(\"./w3\");b.exports=d},{\"./create-element\":2,\"./w3\":30}],11:[function(a,b,c){\"use strict\";function d(a,b,c,d){for(var h,i,j;b.childNodes.length;)b.removeChild(b.childNodes[0]);for(i in g)break;j=g.default||g[i],c&&c.config&&c.config.skin&&g[c.config.skin]&&(j=g[c.config.skin]),0===a?(d.xs=Number(j[3][1][2][1].width),d.ys=Number(j[3][1][2][1].height),d.xlabel=Number(j[3][1][2][1].x),d.ym=Number(j[3][1][2][1].y)):j=[\"svg\",{id:\"svg\",xmlns:f.svg,\"xmlns:xlink\":f.xlink,height:\"0\"},[\"g\",{id:\"waves\"},[\"g\",{id:\"lanes\"}],[\"g\",{id:\"groups\"}]]],j[j.length-1][1].id=\"waves_\"+a,j[j.length-1][2][1].id=\"lanes_\"+a,j[j.length-1][3][1].id=\"groups_\"+a,j[1].id=\"svgcontent_\"+a,j[1].height=0,h=e(j),b.insertBefore(h,null)}var e=a(\"./create-element\"),f=a(\"./w3\"),g=a(\"./wave-skin\");b.exports=d},{\"./create-element\":2,\"./w3\":30,\"./wave-skin\":32}],12:[function(a,b,c){\"use strict\";function d(a,b,c){\"string\"==typeof c&&(c=new Function(\"event\",c)),\"function\"==typeof c&&(a[b]=c)}function e(a,b){if(b.name&&document.attachEvent)try{var c=document.createElement(\"<\"+a.tagName+\" name='\"+b.name+\"'>\");a.tagName===c.tagName&&(a=c)}catch(a){console.log(a)}for(var e in b)if(b.hasOwnProperty(e)){var i=b[e];e&&null!==i&&\"undefined\"!=typeof i&&(e=f[e.toLowerCase()]||e,\"style\"===e?\"undefined\"!=typeof a.style.cssText?a.style.cssText=i:a.style=i:h[e]?(d(a,e,i),g[e]&&d(a,g[e],i)):\"string\"==typeof i||\"number\"==typeof i||\"boolean\"==typeof i?(a.setAttribute(e,i),g[e]&&a.setAttribute(g[e],i)):(a[e]=i,g[e]&&(a[g[e]]=i)))}return a}var f={rowspan:\"rowSpan\",colspan:\"colSpan\",cellpadding:\"cellPadding\",cellspacing:\"cellSpacing\",tabindex:\"tabIndex\",accesskey:\"accessKey\",hidefocus:\"hideFocus\",usemap:\"useMap\",maxlength:\"maxLength\",readonly:\"readOnly\",contenteditable:\"contentEditable\"},g={enctype:\"encoding\",onscroll:\"DOMMouseScroll\"},h=function(a){for(var b,c={};a.length;)b=a.shift(),c[\"on\"+b.toLowerCase()]=b;return c}(\"blur,change,click,dblclick,error,focus,keydown,keypress,keyup,load,mousedown,mouseenter,mouseleave,mousemove,mouseout,mouseover,mouseup,resize,scroll,select,submit,unload\".split(\",\"));b.exports=e},{}],13:[function(a,b,c){\"use strict\";function d(a,b){b&&(a.tagName&&\"style\"===a.tagName.toLowerCase()&&document.createStyleSheet?a.cssText=b:a.canHaveChildren!==!1&&a.appendChild(b))}b.exports=d},{}],14:[function(a,b,c){\"use strict\";function d(a){var b=document.createElement(\"div\");if(b.innerHTML=a,e(b),1===b.childNodes.length)return b.firstChild;for(var c=document.createDocumentFragment?document.createDocumentFragment():document.createElement(\"\");b.firstChild;)c.appendChild(b.firstChild);return c}var e=a(\"./jsonml-trim-whitespace\");b.exports=d},{\"./jsonml-trim-whitespace\":16}],15:[function(a,b,c){\"use strict\";function d(a){return a instanceof Array&&\"string\"==typeof a[0]}function e(a,b,c){return document.createTextNode(\"[\"+a+\"-\"+c+\"]\")}var f,g,h=a(\"./jsonml-hydrate\"),i=a(\"./w3\"),j=a(\"./jsonml-append-child\"),k=a(\"./jsonml-add-attributes\"),l=a(\"./jsonml-trim-whitespace\"),m=null;f=function(a,b,c){for(var d=1;d<b.length;d++)b[d]instanceof Array||\"string\"==typeof b[d]?j(a,g(b[d],c)):b[d]&&b[d].value?j(a,h(b[d].value)):\"object\"==typeof b[d]&&null!==b[d]&&1===a.nodeType&&(a=k(a,b[d]));return a},g=function(a,b){var c;try{if(!a)return null;if(\"string\"==typeof a)return document.createTextNode(a);if(a&&a.value)return h(a.value);if(!d(a))throw new SyntaxError(\"invalid JsonML\");var k=a[0];if(!k){for(var n=document.createDocumentFragment?document.createDocumentFragment():document.createElement(\"\"),o=2;o<a.length;o++)j(n,g(a[o],b));return l(n),1===n.childNodes.length?n.firstChild:n}return\"style\"===k.toLowerCase()&&document.createStyleSheet?(f(document.createStyleSheet(),a,b),null):(c=f(document.createElementNS(i.svg,k),a,b),l(c),c)}catch(c){try{var p=\"function\"==typeof m?m:e;return p(c,a,b)}catch(a){return document.createTextNode(\"[\"+a+\"]\")}}},b.exports=g},{\"./jsonml-add-attributes\":12,\"./jsonml-append-child\":13,\"./jsonml-hydrate\":14,\"./jsonml-trim-whitespace\":16,\"./w3\":30}],16:[function(a,b,c){\"use strict\";function d(a){return a&&3===a.nodeType&&(!a.nodeValue||!/\\S/.exec(a.nodeValue))}function e(a){if(a){for(;d(a.firstChild);)a.removeChild(a.firstChild);for(;d(a.lastChild);)a.removeChild(a.lastChild)}}b.exports=e},{}],17:[function(a,b,c){\"use strict\";var d={xs:20,ys:20,xg:120,yh0:0,yh1:0,yf0:0,yf1:0,y0:5,yo:30,tgo:-10,ym:15,xlabel:6,xmax:1,scale:1,head:{},foot:{}};b.exports=d},{}],18:[function(a,b,c){\"use strict\";function d(a,b){function c(a){return a>0?Math.round(a):1}var d;b.hscale=1,b.hscale0&&(b.hscale=b.hscale0),a&&a.config&&a.config.hscale&&(d=Math.round(c(a.config.hscale)),d>0&&(d>100&&(d=100),b.hscale=d)),b.yh0=0,b.yh1=0,b.head=a.head,b.xmin_cfg=0,b.xmax_cfg=1e12,a&&a.config&&a.config.hbounds&&2==a.config.hbounds.length&&(a.config.hbounds[0]=Math.floor(a.config.hbounds[0]),a.config.hbounds[1]=Math.ceil(a.config.hbounds[1]),a.config.hbounds[0]<a.config.hbounds[1]&&(b.xmin_cfg=2*Math.floor(a.config.hbounds[0]),b.xmax_cfg=2*Math.floor(a.config.hbounds[1]))),a&&a.head&&((a.head.tick||0===a.head.tick||a.head.tock||0===a.head.tock)&&(b.yh0=20),(a.head.tick||0===a.head.tick)&&(a.head.tick=a.head.tick+b.xmin_cfg/2),(a.head.tock||0===a.head.tock)&&(a.head.tock=a.head.tock+b.xmin_cfg/2),a.head.text&&(b.yh1=46,b.head.text=a.head.text)),b.yf0=0,b.yf1=0,b.foot=a.foot,a&&a.foot&&((a.foot.tick||0===a.foot.tick||a.foot.tock||0===a.foot.tock)&&(b.yf0=20),(a.foot.tick||0===a.foot.tick)&&(a.foot.tick=a.foot.tick+b.xmin_cfg/2),(a.foot.tock||0===a.foot.tock)&&(a.foot.tock=a.foot.tock+b.xmin_cfg/2),a.foot.text&&(b.yf1=46,b.foot.text=a.foot.text))}b.exports=d},{}],19:[function(a,b,c){\"use strict\";function d(a,b,c){var d,h,i,j,k,l,m=[],n=[],o=[];for(m=a.split(\"\"),i=m.shift(),k=!1,d=1;\".\"===m[0]||\"|\"===m[0];)m.shift(),d+=1;for(n=n.concat(e(i,b,d));m.length;){for(h=i,i=m.shift(),\"<\"===i&&(k=!0,i=m.shift()),\">\"===i&&(k=!1,i=m.shift()),d=1;\".\"===m[0]||\"|\"===m[0];)m.shift(),d+=1;n=k?n.concat(f(h+i,0,d-c.period)):n.concat(f(h+i,b,d))}for(j=0;j<c.phase;j+=1)o.push(n.shift());return o.length>0?(l=g(o).length,1==g([o[o.length-1]]).length&&1==g([n[0]]).length&&(l-=1)):l=0,[n,l]}var e=a(\"./gen-first-wave-brick\"),f=a(\"./gen-wave-brick\"),g=a(\"./find-lane-markers\");b.exports=d},{\"./find-lane-markers\":5,\"./gen-first-wave-brick\":7,\"./gen-wave-brick\":8}],20:[function(a,b,c){\"use strict\";function d(a,b){var c;return c=a.data,void 0===c?null:(\"string\"==typeof c&&(c=c.split(\" \")),c=c.slice(b))}function e(a,b){var c,e,g,h,i,j=[],k=[];for(c in a)e=a[c],b.period=e.period?e.period:1,b.phase=(e.phase?2*e.phase:0)+b.xmin_cfg,j.push([]),k[0]=e.name||\" \",k[1]=(e.phase||0)+b.xmin_cfg/2,e.wave?(h=f(e.wave,b.period*b.hscale-1,b),g=h[0],i=h[1]):g=null,j[j.length-1][0]=k.slice(0),j[j.length-1][1]=g,j[j.length-1][2]=d(e,i);return j}var f=a(\"./parse-wave-lane\");b.exports=e},{\"./parse-wave-lane\":19}],21:[function(a,b,c){\"use strict\";function d(){var a,b,c,d;for(c=0,a=document.querySelectorAll(\"*\"),b=0;b<a.length;b++)a.item(b).type&&\"WaveDrom\"===a.item(b).type&&(a.item(b).setAttribute(\"id\",\"InputJSON_\"+c),d=document.createElement(\"div\"),d.id=\"WaveDrom_Display_\"+c,a.item(b).parentNode.insertBefore(d,a.item(b)),c+=1);for(b=0;b<c;b+=1)g(b,e(\"InputJSON_\"+b),\"WaveDrom_Display_\"),f(b,\"WaveDrom_Display_\");document.head.innerHTML+='<style type=\"text/css\">div.wavedromMenu{position:fixed;border:solid 1pt#CCCCCC;background-color:white;box-shadow:0px 10px 20px #808080;cursor:default;margin:0px;padding:0px;}div.wavedromMenu>ul{margin:0px;padding:0px;}div.wavedromMenu>ul>li{padding:2px 10px;list-style:none;}div.wavedromMenu>ul>li:hover{background-color:#b5d5ff;}</style>'}var e=a(\"./eva\"),f=a(\"./append-save-as-dialog\"),g=a(\"./render-wave-form\");b.exports=d},{\"./append-save-as-dialog\":1,\"./eva\":4,\"./render-wave-form\":28}],22:[function(a,b,c){\"use strict\";function d(a,b){var c,e,f={},g={x:10};for(\"string\"!=typeof a[0]&&\"number\"!=typeof a[0]||(e=a[0],g.x=25),b.x+=g.x,c=0;c<a.length;c++)\"object\"==typeof a[c]&&(\"[object Array]\"===Object.prototype.toString.call(a[c])?(f.y=b.y,b=d(a[c],b),b.groups.push({x:b.xx,y:f.y,height:b.y-f.y,name:b.name})):(b.lanes.push(a[c]),b.width.push(b.x),b.y+=1));return b.xx=b.x,b.x-=g.x,b.name=e,b}b.exports=d},{}],23:[function(a,b,c){\"use strict\";function d(a,b,c,d,h){function i(){r&&s&&(x=document.createElementNS(g.svg,\"path\"),x.id=\"gmark_\"+A.from+\"_\"+A.to,x.setAttribute(\"d\",\"M \"+r.x+\",\"+r.y+\" \"+s.x+\",\"+s.y),x.setAttribute(\"style\",\"fill:none;stroke:#00F;stroke-width:1\"),j.insertBefore(x,null))}var j,k,l,m,n,o,p,q,r,s,t,u,v,w,x,y,z=[],A={words:[],from:0,shape:\"\",to:0,label:\"\"},B={};if(b){for(k in b)if(h.period=b[k].period?b[k].period:1,h.phase=(b[k].phase?2*b[k].phase:0)+h.xmin_cfg,m=b[k].node)for(z=m.split(\"\"),n=0;z.length;)o=z.shift(),\".\"!==o&&(B[o]={x:h.xs*(2*n*h.period*h.hscale-h.phase)+h.xlabel,y:k*h.yo+h.y0+.5*h.ys}),n+=1;if(j=document.createElementNS(g.svg,\"g\"),j.id=\"wavearcs_\"+c,a.insertBefore(j,null),d.edge)for(k in d.edge)if(A.words=d.edge[k].split(\" \"),A.label=d.edge[k].substring(A.words[0].length),A.label=A.label.substring(1),A.from=A.words[0].substr(0,1),A.to=A.words[0].substr(-1,1),A.shape=A.words[0].slice(1,-1),r=B[A.from],s=B[A.to],i(),r&&s){switch(A.label&&(p=e.parse(A.label),p.unshift(\"text\",{style:\"font-size:10px;\",\"text-anchor\":\"middle\",\"xml:space\":\"preserve\"}),p=f(p),q=f([\"rect\",{height:9,style:\"fill:#FFF;\"}]),j.insertBefore(q,null),j.insertBefore(p,null),y=p.getBBox().width,q.setAttribute(\"width\",y)),t=s.x-r.x,u=s.y-r.y,v=(r.x+s.x)/2,w=(r.y+s.y)/2,A.shape){case\"-\":break;case\"~\":x.setAttribute(\"d\",\"M \"+r.x+\",\"+r.y+\" c \"+.7*t+\", 0 \"+.3*t+\", \"+u+\" \"+t+\", \"+u);break;case\"-~\":x.setAttribute(\"d\",\"M \"+r.x+\",\"+r.y+\" c \"+.7*t+\", 0 \"+t+\", \"+u+\" \"+t+\", \"+u),A.label&&(v=r.x+.75*(s.x-r.x));break;case\"~-\":x.setAttribute(\"d\",\"M \"+r.x+\",\"+r.y+\" c 0, 0 \"+.3*t+\", \"+u+\" \"+t+\", \"+u),A.label&&(v=r.x+.25*(s.x-r.x));break;case\"-|\":x.setAttribute(\"d\",\"m \"+r.x+\",\"+r.y+\" \"+t+\",0 0,\"+u),A.label&&(v=s.x);break;case\"|-\":x.setAttribute(\"d\",\"m \"+r.x+\",\"+r.y+\" 0,\"+u+\" \"+t+\",0\"),A.label&&(v=r.x);break;case\"-|-\":x.setAttribute(\"d\",\"m \"+r.x+\",\"+r.y+\" \"+t/2+\",0 0,\"+u+\" \"+t/2+\",0\");break;case\"->\":x.setAttribute(\"style\",\"marker-end:url(#arrowhead);stroke:#0041c4;stroke-width:1;fill:none\");break;case\"~>\":x.setAttribute(\"style\",\"marker-end:url(#arrowhead);stroke:#0041c4;stroke-width:1;fill:none\"),x.setAttribute(\"d\",\"M \"+r.x+\",\"+r.y+\" c \"+.7*t+\", 0 \"+.3*t+\", \"+u+\" \"+t+\", \"+u);break;case\"-~>\":x.setAttribute(\"style\",\"marker-end:url(#arrowhead);stroke:#0041c4;stroke-width:1;fill:none\"),x.setAttribute(\"d\",\"M \"+r.x+\",\"+r.y+\" c \"+.7*t+\", 0 \"+t+\", \"+u+\" \"+t+\", \"+u),A.label&&(v=r.x+.75*(s.x-r.x));break;case\"~->\":x.setAttribute(\"style\",\"marker-end:url(#arrowhead);stroke:#0041c4;stroke-width:1;fill:none\"),x.setAttribute(\"d\",\"M \"+r.x+\",\"+r.y+\" c 0, 0 \"+.3*t+\", \"+u+\" \"+t+\", \"+u),A.label&&(v=r.x+.25*(s.x-r.x));break;case\"-|>\":x.setAttribute(\"style\",\"marker-end:url(#arrowhead);stroke:#0041c4;stroke-width:1;fill:none\"),x.setAttribute(\"d\",\"m \"+r.x+\",\"+r.y+\" \"+t+\",0 0,\"+u),A.label&&(v=s.x);break;case\"|->\":x.setAttribute(\"style\",\"marker-end:url(#arrowhead);stroke:#0041c4;stroke-width:1;fill:none\"),x.setAttribute(\"d\",\"m \"+r.x+\",\"+r.y+\" 0,\"+u+\" \"+t+\",0\"),A.label&&(v=r.x);break;case\"-|->\":x.setAttribute(\"style\",\"marker-end:url(#arrowhead);stroke:#0041c4;stroke-width:1;fill:none\"),x.setAttribute(\"d\",\"m \"+r.x+\",\"+r.y+\" \"+t/2+\",0 0,\"+u+\" \"+t/2+\",0\");break;case\"<->\":x.setAttribute(\"style\",\"marker-end:url(#arrowhead);marker-start:url(#arrowtail);stroke:#0041c4;stroke-width:1;fill:none\");break;case\"<~>\":x.setAttribute(\"style\",\"marker-end:url(#arrowhead);marker-start:url(#arrowtail);stroke:#0041c4;stroke-width:1;fill:none\"),x.setAttribute(\"d\",\"M \"+r.x+\",\"+r.y+\" c \"+.7*t+\", 0 \"+.3*t+\", \"+u+\" \"+t+\", \"+u);break;case\"<-~>\":x.setAttribute(\"style\",\"marker-end:url(#arrowhead);marker-start:url(#arrowtail);stroke:#0041c4;stroke-width:1;fill:none\"),x.setAttribute(\"d\",\"M \"+r.x+\",\"+r.y+\" c \"+.7*t+\", 0 \"+t+\", \"+u+\" \"+t+\", \"+u),A.label&&(v=r.x+.75*(s.x-r.x));break;case\"<-|>\":x.setAttribute(\"style\",\"marker-end:url(#arrowhead);marker-start:url(#arrowtail);stroke:#0041c4;stroke-width:1;fill:none\"),x.setAttribute(\"d\",\"m \"+r.x+\",\"+r.y+\" \"+t+\",0 0,\"+u),A.label&&(v=s.x);break;case\"<-|->\":x.setAttribute(\"style\",\"marker-end:url(#arrowhead);marker-start:url(#arrowtail);stroke:#0041c4;stroke-width:1;fill:none\"),x.setAttribute(\"d\",\"m \"+r.x+\",\"+r.y+\" \"+t/2+\",0 0,\"+u+\" \"+t/2+\",0\");break;default:x.setAttribute(\"style\",\"fill:none;stroke:#F00;stroke-width:1\")}A.label&&(p.setAttribute(\"x\",v),p.setAttribute(\"y\",w+3),q.setAttribute(\"x\",v-y/2),q.setAttribute(\"y\",w-5))}for(l in B)l===l.toLowerCase()&&B[l].x>0&&(q=f([\"rect\",{y:B[l].y-4,height:8,style:\"fill:#FFF;\"}]),p=f([\"text\",{style:\"font-size:8px;\",x:B[l].x,y:B[l].y+2,\"text-anchor\":\"middle\"},l+\"\"]),j.insertBefore(q,null),j.insertBefore(p,null),y=p.getBBox().width+2,q.setAttribute(\"x\",B[l].x-y/2),q.setAttribute(\"width\",y))}}var e=a(\"tspan\"),f=a(\"./create-element\"),g=a(\"./w3\");b.exports=d},{\"./create-element\":2,\"./w3\":30,tspan:33}],24:[function(a,b,c){\"use strict\";function d(a,b){var c,e,f;for(b.xmax=Math.max(b.xmax,b.x),c=b.y,f=a.length,e=1;e<f;e++)\"[object Array]\"===Object.prototype.toString.call(a[e])?b=d(a[e],{x:b.x+1,y:b.y,xmax:b.xmax}):(a[e]={name:a[e],x:b.x+1,y:b.y},b.y+=2);return a[0]={name:a[0],x:b.x,y:Math.round((c+(b.y-2))/2)},b.x--,b}function e(a,b,c){var d,e,f=\" M 4,0 C 4,1.1 3.1,2 2,2 0.9,2 0,1.1 0,0 c 0,-1.1 0.9,-2 2,-2 1.1,0 2,0.9 2,2 z\",g={\"~\":\"M -11,-6 -11,6 0,0 z m -5,6 5,0\"+f,\"=\":\"M -11,-6 -11,6 0,0 z m -5,6 5,0\",\"&\":\"m -16,-10 5,0 c 6,0 11,4 11,10 0,6 -5,10 -11,10 l -5,0 z\",\"~&\":\"m -16,-10 5,0 c 6,0 11,4 11,10 0,6 -5,10 -11,10 l -5,0 z\"+f,\"|\":\"m -18,-10 4,0 c 6,0 12,5 14,10 -2,5 -8,10 -14,10 l -4,0 c 2.5,-5 2.5,-15 0,-20 z\",\"~|\":\"m -18,-10 4,0 c 6,0 12,5 14,10 -2,5 -8,10 -14,10 l -4,0 c 2.5,-5 2.5,-15 0,-20 z\"+f,\"^\":\"m -21,-10 c 1,3 2,6 2,10 m 0,0 c 0,4 -1,7 -2,10 m 3,-20 4,0 c 6,0 12,5 14,10 -2,5 -8,10 -14,10 l -4,0 c 1,-3 2,-6 2,-10 0,-4 -1,-7 -2,-10 z\",\"~^\":\"m -21,-10 c 1,3 2,6 2,10 m 0,0 c 0,4 -1,7 -2,10 m 3,-20 4,0 c 6,0 12,5 14,10 -2,5 -8,10 -14,10 l -4,0 c 1,-3 2,-6 2,-10 0,-4 -1,-7 -2,-10 z\"+f,\"+\":\"m -8,5 0,-10 m -5,5 10,0 m 3,0 c 0,4.418278 -3.581722,8 -8,8 -4.418278,0 -8,-3.581722 -8,-8 0,-4.418278 3.581722,-8 8,-8 4.418278,0 8,3.581722 8,8 z\",\"*\":\"m -4,4 -8,-8 m 0,8 8,-8 m 4,4 c 0,4.418278 -3.581722,8 -8,8 -4.418278,0 -8,-3.581722 -8,-8 0,-4.418278 3.581722,-8 8,-8 4.418278,0 8,3.581722 8,8 z\"},h={BUF:1,INV:1,AND:\"&\",NAND:\"&\",OR:\"≥1\",NOR:\"≥1\",XOR:\"=1\",XNOR:\"=1\",box:\"\"},i={INV:1,NAND:1,NOR:1,XNOR:1};return c===b&&(c=4,b=-4),d=g[a],e=h[a],d?[\"path\",{class:\"gate\",d:d}]:e?[\"g\",[\"path\",{class:\"gate\",d:\"m -16,\"+(b-3)+\" 16,0 0,\"+(c-b+6)+\" -16,0 z\"+(i[a]?f:\"\")}],[\"text\",[\"tspan\",{x:\"-14\",y:\"4\",class:\"wirename\"},e+\"\"]]]:[\"text\",[\"tspan\",{x:\"-14\",y:\"4\",class:\"wirename\"},a+\"\"]]}function f(a){var b,c,d,f=[\"g\"],g=[],h=a.length;for(b=2;b<h;b++)g.push(a[b][1]);for(c=Math.min.apply(null,g),d=Math.max.apply(null,g),f.push([\"g\",{transform:\"translate(16,0)\"},[\"path\",{d:\"M  \"+a[2][0]+\",\"+c+\" \"+a[2][0]+\",\"+d,class:\"wire\"}]]),b=2;b<h;b++)f.push([\"g\",[\"path\",{d:\"m  \"+a[b][0]+\",\"+a[b][1]+\" 16,0\",class:\"wire\"}]]);return f.push([\"g\",{transform:\"translate(\"+a[1][0]+\",\"+a[1][1]+\")\"},[\"title\",a[0]],e(a[0],c-a[1][1],d-a[1][1])]),f}function g(a,b){var c,d,e,h,i,j=[\"g\"],k=[];if(\"[object Array]\"===Object.prototype.toString.call(a)){for(d=a.length,k.push(a[0].name),k.push([32*(b-a[0].x),8*a[0].y]),c=1;c<d;c++)\"[object Array]\"===Object.prototype.toString.call(a[c])?k.push([32*(b-a[c][0].x),8*a[c][0].y]):k.push([32*(b-a[c].x),8*a[c].y]);for(j.push(f(k)),c=1;c<d;c++)j.push(g(a[c],b))}else i=a.name,e=32*(b-a.x),h=8*a.y,j.push([\"g\",{transform:\"translate(\"+e+\",\"+h+\")\"},[\"title\",i],[\"path\",{d:\"M 2,0 a 2,2 0 1 1 -4,0 2,2 0 1 1 4,0 z\"}],[\"text\",[\"tspan\",{x:\"-4\",y:\"4\",class:\"pinname\"},i]]]);return j}function h(a,b){var c,e,f,h,j,k,l,m,n,o,p=[\"g\"],q=[\"g\"];for(m=b.assign.length,e={x:0,y:2,xmax:0},c=b.assign,l=0;l<m;l++)e=d(c[l],e),e.x++;for(f=e.xmax+3,l=0;l<m;l++)p.push(g(c[l],f));for(j=32*(f+1)+1,k=8*(e.y+1)-7,m=4*(f+1),o=e.y+1,l=0;l<=m;l++)for(n=0;n<=o;n++)q.push([\"rect\",{height:1,width:1,x:8*l-.5,y:8*n-.5,class:\"grid\"}]);h=document.getElementById(\"svgcontent_\"+a),h.setAttribute(\"viewBox\",\"0 0 \"+j+\" \"+k),h.setAttribute(\"width\",j),h.setAttribute(\"height\",k),h.insertBefore(i([\"g\",{transform:\"translate(0.5, 0.5)\"},q,p]),null)}var i=a(\"./create-element\");b.exports=h},{\"./create-element\":2}],25:[function(a,b,c){\"use strict\";function d(a,b,c,d){var f,g,h,i,j,k,l,m,n=[];if(b){g=document.createElementNS(e.svg,\"g\"),g.id=\"wavegaps_\"+c,a.insertBefore(g,null),l=!1;for(f in b)if(d.period=b[f].period?b[f].period:1,d.phase=(b[f].phase?2*b[f].phase:0)+d.xmin_cfg,h=document.createElementNS(e.svg,\"g\"),h.id=\"wavegap_\"+f+\"_\"+c,h.setAttribute(\"transform\",\"translate(0,\"+(d.y0+f*d.yo)+\")\"),g.insertBefore(h,null),k=b[f].wave)for(n=k.split(\"\"),j=0;n.length;)m=n.shift(),\"<\"===m&&(l=!0,m=n.shift()),\">\"===m&&(l=!1,m=n.shift()),j+=l?1:2*d.period,\"|\"===m&&(i=document.createElementNS(e.svg,\"use\"),i.setAttributeNS(e.xlink,\"xlink:href\",\"#gap\"),i.setAttribute(\"transform\",\"translate(\"+d.xs*((j-(l?0:d.period))*d.hscale-d.phase)+\")\"),h.insertBefore(i,null))}}var e=a(\"./w3\");b.exports=d},{\"./w3\":30}],26:[function(a,b,c){\"use strict\";function d(a,b,c){var d,f,g,h=[\"g\"];return a.forEach(function(a,i){h.push([\"path\",{id:\"group_\"+i+\"_\"+b,d:\"m \"+(a.x+.5)+\",\"+(a.y*c.yo+3.5+c.yh0+c.yh1)+\" c -3,0 -5,2 -5,5 l 0,\"+(a.height*c.yo-16)+\" c 0,3 2,5 5,5\",style:\"stroke:#0041c4;stroke-width:1;fill:none\"}]),void 0!==a.name&&(d=a.x-10,f=c.yo*(a.y+a.height/2)+c.yh0+c.yh1,g=e.parse(a.name),g.unshift(\"text\",{\"text-anchor\":\"middle\",class:\"info\",\"xml:space\":\"preserve\"}),h.push([\"g\",{transform:\"translate(\"+d+\",\"+f+\")\"},[\"g\",{transform:\"rotate(270)\"},g]]))}),h}var e=a(\"tspan\");b.exports=d},{tspan:33}],27:[function(a,b,c){\"use strict\";function d(a,b,c,d){function g(a,b,c){var d;a[b]&&a[b].text&&(d=e.parse(a[b].text),d.unshift(\"text\",{x:a.xmax*a.xs/2,y:c,\"text-anchor\":\"middle\",fill:\"#000\",\"xml:space\":\"preserve\"}),d=f(d),j.insertBefore(d,null))}function h(a,b,c,d,g,h,k){var l,m,n,o,p=1,q=0,r=[];if(void 0!==a[b]&&void 0!==a[b][c]){if(n=a[b][c],\"string\"==typeof n)n=n.split(\" \");else if(\"number\"==typeof n||\"boolean\"==typeof n)for(m=Number(n),n=[],i=0;i<k;i+=1)n.push(i+m);if(\"[object Array]\"===Object.prototype.toString.call(n)&&0!==n.length){if(1===n.length)if(m=Number(n[0]),isNaN(m))r=n;else for(i=0;i<k;i+=1)r[i]=i+m;else if(2===n.length)if(m=Number(n[0]),p=Number(n[1]),o=n[1].split(\".\"),2===o.length&&(q=o[1].length),isNaN(m)||isNaN(p))r=n;else for(m=p*m,i=0;i<k;i+=1)r[i]=(p*i+m).toFixed(q);else r=n;for(i=0;i<k;i+=1)o=r[i],l=e.parse(o),l.unshift(\"text\",{x:i*g+d,y:h,\"text-anchor\":\"middle\",class:\"muted\",\"xml:space\":\"preserve\"}),l=f(l),j.insertBefore(l,null)}}}var i,j,k,l,m,n;for(l=2*d.hscale,m=l*d.xs,k=d.xmax/l,n=b.length*d.yo,j=f([\"g\",{id:\"gmarks_\"+c}]),a.insertBefore(j,a.firstChild),i=0;i<k+1;i+=1)j.insertBefore(f([\"path\",{id:\"gmark_\"+i+\"_\"+c,d:\"m \"+i*m+\",0 0,\"+n,style:\"stroke:#888;stroke-width:0.5;stroke-dasharray:1,3\"}]),null);g(d,\"head\",d.yh0?-33:-13),g(d,\"foot\",n+(d.yf0?45:25)),h(d,\"head\",\"tick\",0,m,-5,k+1),h(d,\"head\",\"tock\",m/2,m,-5,k),h(d,\"foot\",\"tick\",0,m,n+15,k+1),h(d,\"foot\",\"tock\",m/2,m,n+15,k)}var e=a(\"tspan\"),f=a(\"./create-element\");b.exports=d},{\"./create-element\":2,tspan:33}],28:[function(a,b,c){\"use strict\";function d(a,b,c){var d,r,s,t,u,v,w,x,y,z=0;if(b.signal){p(a,document.getElementById(c+a),b,f),h(b,f),d=e(b.signal,{x:0,y:0,xmax:0,width:[],lanes:[],groups:[]}),r=document.getElementById(\"lanes_\"+a),s=document.getElementById(\"groups_\"+a),u=i(d.lanes,f),x=m(r,u,a,f);for(y in x)z=Math.max(z,x[y]+d.width[y]);j(r,u,a,f),o(r,d.lanes,a,b,f),k(r,d.lanes,a,f),s.insertBefore(g(l(d.groups,a,f)),null),f.xg=Math.ceil((z-f.tgo)/f.xs)*f.xs,v=f.xg+f.xs*(f.xmax+1),w=u.length*f.yo+f.yh0+f.yh1+f.yf0+f.yf1,t=document.getElementById(\"svgcontent_\"+a),t.setAttribute(\"viewBox\",\"0 0 \"+v+\" \"+w),t.setAttribute(\"width\",v),t.setAttribute(\"height\",w),t.setAttribute(\"overflow\",\"hidden\"),r.setAttribute(\"transform\",\"translate(\"+(f.xg+.5)+\", \"+(f.yh0+f.yh1+.5)+\")\")}else b.assign&&(q(a,document.getElementById(c+a),b),n(a,b))}var e=a(\"./rec\"),f=a(\"./lane\"),g=a(\"./create-element\"),h=a(\"./parse-config\"),i=a(\"./parse-wave-lanes\"),j=a(\"./render-marks\"),k=a(\"./render-gaps\"),l=a(\"./render-groups\"),m=a(\"./render-wave-lane\"),n=a(\"./render-assign\"),o=a(\"./render-arcs\"),p=a(\"./insert-svg-template\"),q=a(\"./insert-svg-template-assign\");b.exports=d},{\"./create-element\":2,\"./insert-svg-template\":11,\"./insert-svg-template-assign\":10,\"./lane\":17,\"./parse-config\":18,\"./parse-wave-lanes\":20,\"./rec\":22,\"./render-arcs\":23,\"./render-assign\":24,\"./render-gaps\":25,\"./render-groups\":26,\"./render-marks\":27,\"./render-wave-lane\":29}],29:[function(a,b,c){\"use strict\";function d(a,b,c,d){var i,j,k,l,m,n,o,p,q,r=[1],s=0,t=0,u=[];for(j=0;j<b.length;j+=1)if(p=b[j][0][0],p&&(l=f([\"g\",{id:\"wavelane_\"+j+\"_\"+c,transform:\"translate(0,\"+(d.y0+j*d.yo)+\")\"}]),a.insertBefore(l,null),n=e.parse(p),n.unshift(\"text\",{x:d.tgo,y:d.ym,class:\"info\",\"text-anchor\":\"end\",\"xml:space\":\"preserve\"}),n=f(n),l.insertBefore(n,null),u.push(n.getBBox().width),q=b[j][0][1],q=q>0?Math.ceil(2*q)-2*q:-2*q,m=f([\"g\",{id:\"wavelane_draw_\"+j+\"_\"+c,transform:\"translate(\"+q*d.xs+\", 0)\"}]),l.insertBefore(m,null),b[j][1])){for(i=0;i<b[j][1].length;i+=1)o=document.createElementNS(g.svg,\"use\"),o.setAttributeNS(g.xlink,\"xlink:href\",\"#\"+b[j][1][i]),o.setAttribute(\"transform\",\"translate(\"+i*d.xs+\")\"),m.insertBefore(o,null);if(b[j][2]&&b[j][2].length&&(r=h(b[j][1]),0!==r.length))for(k in r)b[j][2]&&\"undefined\"!=typeof b[j][2][k]&&(n=e.parse(b[j][2][k]),n.unshift(\"text\",{x:r[k]*d.xs+d.xlabel,y:d.ym,\"text-anchor\":\"middle\",\"xml:space\":\"preserve\"}),n=f(n),m.insertBefore(n,null));b[j][1].length>s&&(s=b[j][1].length)}return d.xmax=Math.min(s,d.xmax_cfg-d.xmin_cfg),d.xg=t+20,u}var e=a(\"tspan\"),f=a(\"./create-element\"),g=a(\"./w3\"),h=a(\"./find-lane-markers\");b.exports=d},{\"./create-element\":2,\"./find-lane-markers\":5,\"./w3\":30,tspan:33}],30:[function(a,b,c){\"use strict\";b.exports={svg:\"http://www.w3.org/2000/svg\",xlink:\"http://www.w3.org/1999/xlink\",xmlns:\"http://www.w3.org/XML/1998/namespace\"}},{}],31:[function(a,b,c){\"use strict\";window.WaveDrom=window.WaveDrom||{};var d=a(\"./\");window.WaveDrom.ProcessAll=d.processAll,window.WaveDrom.RenderWaveForm=d.renderWaveForm,window.WaveDrom.EditorRefresh=d.editorRefresh,window.WaveDrom.eva=d.eva},{\"./\":9}],32:[function(a,b,c){\"use strict\";b.exports=window.WaveSkin},{}],33:[function(a,b,c){\"use strict\";function d(a,b){b.add&&b.add.split(\";\").forEach(function(b){var c=b.split(\" \");a[c[0]][c[1]]=!0}),b.del&&b.del.split(\";\").forEach(function(b){var c=b.split(\" \");delete a[c[0]][c[1]]})}function e(a){return Object.keys(a).reduce(function(b,c){var d=Object.keys(a[c]);return d.length>0&&(b[c]=d.join(\" \")),b},{})}function f(a){var b,c,f,i,j;if(void 0===a)return[];if(\"number\"==typeof a)return[a+\"\"];if(\"string\"!=typeof a)return[a];for(c=[],b={\"text-decoration\":{},\"font-weight\":{},\"font-style\":{},\"baseline-shift\":{},\"font-size\":{},\"font-family\":{}};;){if(f=a.search(g),f===-1)return c.push([\"tspan\",e(b),a]),c;if(f>0&&(j=a.slice(0,f),c.push([\"tspan\",e(b),j])),i=a.match(g)[0],d(b,h[i]),a=a.slice(f+i.length),0===a.length)return c}}var g=/<o>|<ins>|<s>|<sub>|<sup>|<b>|<i>|<tt>|<\\/o>|<\\/ins>|<\\/s>|<\\/sub>|<\\/sup>|<\\/b>|<\\/i>|<\\/tt>/,h={\"<o>\":{add:\"text-decoration overline\"},\"</o>\":{del:\"text-decoration overline\"},\"<ins>\":{add:\"text-decoration underline\"},\"</ins>\":{del:\"text-decoration underline\"},\"<s>\":{add:\"text-decoration line-through\"},\"</s>\":{del:\"text-decoration line-through\"},\"<b>\":{add:\"font-weight bold\"},\"</b>\":{del:\"font-weight bold\"},\"<i>\":{add:\"font-style italic\"},\"</i>\":{del:\"font-style italic\"},\"<sub>\":{add:\"baseline-shift sub;font-size .7em\"},\"</sub>\":{del:\"baseline-shift sub;font-size .7em\"},\"<sup>\":{add:\"baseline-shift super;font-size .7em\"},\"</sup>\":{del:\"baseline-shift super;font-size .7em\"},\"<tt>\":{add:\"font-family monospace\"},\"</tt>\":{del:\"font-family monospace\"}};c.parse=f},{}]},{},[31]);</script><div><script type=\"WaveDrom\">{\"signal\": [{\"name\": \"CK\", \"wave\": \"P........x\"}, {\"name\": \"N\\u00famero 1\", \"wave\": \"x22222222x\", \"data\": [1, 3, 5, 7, 1, 3, 5, 7]}, {\"name\": \"N\\u00famero 2\", \"wave\": \"x22222222x\", \"data\": [2, 4, 6, 8, 2, 4, 6, 8]}, {\"name\": \"Selecci\\u00f3n\", \"wave\": \"x0...1...x\", \"data\": []}, {\"name\": \"Resultado (Comp.)\", \"wave\": \"x22222222x\", \"data\": [3, 7, 11, 15, 2, 12, 30, 56]}, {\"name\": \"Resultado (Estr.)\", \"wave\": \"x22222222x\", \"data\": [3, 7, 11, 15, 2, 12, 30, 56]}], \"head\": {\"text\": \"Waveform\", \"tock\": 0}}</script></div><script>WaveDrom.ProcessAll();</script>"
            ],
            "text/plain": [
              "<IPython.core.display.HTML object>"
            ]
          },
          "metadata": {
            "tags": []
          },
          "execution_count": 44
        }
      ]
    },
    {
      "cell_type": "markdown",
      "metadata": {
        "id": "cww10RmgaORN"
      },
      "source": [
        "Podemos ver que ambos bloques funcionan correctamente y son equivalentes.\n",
        "\n",
        "Más importante, podemos ver la practicidad de emplear el bloque _Waveform_, puesto que de un vistazo podemos ver si nuestro circuito se comporta de la forma esperada, sin importar que las señales cambien con el tiempo o tengamos muchas a la vez."
      ]
    },
    {
      "cell_type": "markdown",
      "metadata": {
        "id": "Q2vPI5Hrvln7"
      },
      "source": [
        "## Control de integridad"
      ]
    },
    {
      "cell_type": "markdown",
      "metadata": {
        "id": "RlbqpyLEvrNS"
      },
      "source": [
        "Otra forma de ver si el circuito está correctamente montado es con una comprobación de integridad."
      ]
    },
    {
      "cell_type": "code",
      "metadata": {
        "colab": {
          "base_uri": "https://localhost:8080/"
        },
        "id": "OQD6-_qDvzeD",
        "outputId": "079be82b-13ad-41ea-e8ac-553ced7bb478"
      },
      "source": [
        "debug.checkIntegrity(sme) # Para esto habíamos guardado el bloque en una variable."
      ],
      "execution_count": 49,
      "outputs": [
        {
          "output_type": "stream",
          "text": [
            "WARNING /HWSystem[HWSystem]/SumMulEstr[SumMul (Estr.)] Resultado (Estr.) with no sinks\n",
            "WARNING /HWSystem[HWSystem]/SumMulEstr[SumMul (Estr.)]/Constant[1] 1 with no sinks\n",
            "WARNING /HWSystem[HWSystem]/SumMulEstr[SumMul (Estr.)]/Mux2[Multiplexor] Resultado (Estr.) with no sinks\n"
          ],
          "name": "stdout"
        }
      ]
    },
    {
      "cell_type": "code",
      "metadata": {
        "colab": {
          "base_uri": "https://localhost:8080/"
        },
        "id": "V0jLB6rqwfAO",
        "outputId": "d7cad303-4b51-47b8-fa22-70856e49db72"
      },
      "source": [
        "debug.checkIntegrity(sys) # Comprobamos la integridad del circuito al completo"
      ],
      "execution_count": 50,
      "outputs": [
        {
          "output_type": "stream",
          "text": [
            "WARNING /HWSystem[HWSystem]/SumMulComp[SumMul (Comp.)] Resultado (Comp.) with no sinks\n",
            "WARNING /HWSystem[HWSystem]/SumMulEstr[SumMul (Estr.)] Resultado (Estr.) with no sinks\n",
            "WARNING /HWSystem[HWSystem]/SumMulEstr[SumMul (Estr.)]/Constant[1] 1 with no sinks\n",
            "WARNING /HWSystem[HWSystem]/SumMulEstr[SumMul (Estr.)]/Mux2[Multiplexor] Resultado (Estr.) with no sinks\n",
            "WARNING /HWSystem[HWSystem]/Scope[Scope] Resultado (Comp.) with no sinks\n",
            "WARNING /HWSystem[HWSystem]/Scope[Scope] Resultado (Estr.) with no sinks\n",
            "WARNING /HWSystem[HWSystem]/Waveform[Waveform] Resultado (Comp.) with no sinks\n",
            "WARNING /HWSystem[HWSystem]/Waveform[Waveform] Resultado (Estr.) with no sinks\n"
          ],
          "name": "stdout"
        }
      ]
    },
    {
      "cell_type": "markdown",
      "metadata": {
        "id": "sKx4NoGKv7xg"
      },
      "source": [
        "Si algo está mal conectado lo podremos saber con esta instrucción de _debug_.\n",
        "\n",
        "_(Otra forma de saberlo es obtener errores de Python a la hora de ejecutar el código, o bien obtener resultados inesperados o incoherentes.)_"
      ]
    },
    {
      "cell_type": "markdown",
      "metadata": {
        "id": "iwJXj67Qs8hL"
      },
      "source": [
        "## Esquemático"
      ]
    },
    {
      "cell_type": "markdown",
      "metadata": {
        "id": "gaBCJIXDts7r"
      },
      "source": [
        "Una última virtud muy interesante de _Py4Hw_ es la generación de esquemáticos de un circuito. De esta forma, podremos ver si ese circuito que hemos descrito es realmente el que queríamos o no.\n",
        "\n",
        "Estos gráficos se pueden generar a cualquier nivel: podemos obtener el esquema de un bloque (como por ejemplo el SumMulEstr que hemos creado anteriormente) o bien el esquema del circuito al completo (graficando el elemento raíz, _sys_ en este caso)."
      ]
    },
    {
      "cell_type": "code",
      "metadata": {
        "colab": {
          "base_uri": "https://localhost:8080/",
          "height": 398
        },
        "id": "IP1L2dn-w1IQ",
        "outputId": "8d07be35-472f-45e7-d3cb-8e427980758a"
      },
      "source": [
        "Schematic(sme)"
      ],
      "execution_count": 47,
      "outputs": [
        {
          "output_type": "stream",
          "text": [
            "getSymbol -> none for object <class 'py4hw.logic.Constant'>\n",
            "iter 3 cost: 0 False\n"
          ],
          "name": "stdout"
        },
        {
          "output_type": "execute_result",
          "data": {
            "text/plain": [
              "<py4hw.schematic.Schematic at 0x7f078d813f90>"
            ]
          },
          "metadata": {
            "tags": []
          },
          "execution_count": 47
        },
        {
          "output_type": "display_data",
          "data": {
            "image/png": "[encoded data removed]",
            "text/plain": [
              "<Figure size 398x398 with 1 Axes>"
            ]
          },
          "metadata": {
            "tags": [],
            "needs_background": "light"
          }
        }
      ]
    },
    {
      "cell_type": "code",
      "metadata": {
        "id": "srpx214axP2n",
        "colab": {
          "base_uri": "https://localhost:8080/",
          "height": 766
        },
        "outputId": "6859e079-0757-4979-ab84-328deb52dab7"
      },
      "source": [
        "Schematic(sys)"
      ],
      "execution_count": 48,
      "outputs": [
        {
          "output_type": "stream",
          "text": [
            "getSymbol -> none for object <class 'py4hw.logic.Sequence'>\n",
            "getSymbol -> none for object <class 'py4hw.logic.Sequence'>\n",
            "getSymbol -> none for object <class 'py4hw.logic.Sequence'>\n",
            "getSymbol -> none for object <class '__main__.SumMulComp'>\n",
            "getSymbol -> none for object <class '__main__.SumMulEstr'>\n",
            "iter 0 cost: 0 False\n"
          ],
          "name": "stdout"
        },
        {
          "output_type": "execute_result",
          "data": {
            "text/plain": [
              "<py4hw.schematic.Schematic at 0x7f078d75fe10>"
            ]
          },
          "metadata": {
            "tags": []
          },
          "execution_count": 48
        },
        {
          "output_type": "display_data",
          "data": {
            "image/png": "[encoded data removed]",
            "text/plain": [
              "<Figure size 796x796 with 1 Axes>"
            ]
          },
          "metadata": {
            "tags": [],
            "needs_background": "light"
          }
        }
      ]
    }
  ]
}